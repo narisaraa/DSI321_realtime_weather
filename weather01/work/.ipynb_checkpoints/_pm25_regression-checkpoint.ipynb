{
 "cells": [
  {
   "cell_type": "code",
   "execution_count": null,
   "id": "3c195b8a",
   "metadata": {},
   "outputs": [],
   "source": [
    "import pandas as pd\n",
    "from sklearn.linear_model import LinearRegression\n",
    "from sklearn.model_selection import train_test_split\n",
    "import matplotlib.pyplot as plt\n",
    "import seaborn as sns\n",
    "\n",
    "# อ่านข้อมูลจาก LakeFS\n",
    "df = pd.read_parquet(\n",
    "    \"s3://weather/main/datasets/weather.parquet\",\n",
    "    storage_options={\n",
    "        \"key\": \"access_key\",\n",
    "        \"secret\": \"secret_key\",\n",
    "        \"client_kwargs\": {\"endpoint_url\": \"http://localhost:8001\"}\n",
    "    }\n",
    ")\n",
    "\n",
    "# วิเคราะห์ regression\n",
    "features = ['temperature', 'humidity', 'wind_speed']\n",
    "target = 'pm25'\n",
    "\n",
    "X = df[features]\n",
    "y = df[target]\n",
    "\n",
    "X_train, X_test, y_train, y_test = train_test_split(X, y, random_state=42)\n",
    "model = LinearRegression()\n",
    "model.fit(X_train, y_train)\n",
    "\n",
    "plt.figure(figsize=(6, 4))\n",
    "sns.barplot(x=features, y=model.coef_)\n",
    "plt.title(\"ปัจจัยที่ส่งผลต่อค่า PM2.5\")\n",
    "plt.ylabel(\"ค่าสัมประสิทธิ์ (Coefficient)\")\n",
    "plt.show()\n"
   ]
  }
 ],
 "metadata": {
  "language_info": {
   "name": "python"
  }
 },
 "nbformat": 4,
 "nbformat_minor": 5
}
