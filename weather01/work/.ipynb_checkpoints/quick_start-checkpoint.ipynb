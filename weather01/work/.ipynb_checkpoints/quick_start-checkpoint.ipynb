{
 "cells": [
  {
   "cell_type": "code",
   "execution_count": 7,
   "id": "ed0b76af",
   "metadata": {},
   "outputs": [
    {
     "name": "stdout",
     "output_type": "stream",
     "text": [
      "/opt/anaconda3/bin/python\n"
     ]
    }
   ],
   "source": [
    "!which python\n"
   ]
  },
  {
   "cell_type": "code",
   "execution_count": 8,
   "id": "e5297195",
   "metadata": {},
   "outputs": [
    {
     "name": "stdout",
     "output_type": "stream",
     "text": [
      "Requirement already satisfied: prefect in /Library/Frameworks/Python.framework/Versions/3.11/lib/python3.11/site-packages (3.4.0)\n",
      "Requirement already satisfied: aiosqlite<1.0.0,>=0.17.0 in /Library/Frameworks/Python.framework/Versions/3.11/lib/python3.11/site-packages (from prefect) (0.21.0)\n",
      "Requirement already satisfied: alembic<2.0.0,>=1.7.5 in /Library/Frameworks/Python.framework/Versions/3.11/lib/python3.11/site-packages (from prefect) (1.15.2)\n",
      "Requirement already satisfied: anyio<5.0.0,>=4.4.0 in /Library/Frameworks/Python.framework/Versions/3.11/lib/python3.11/site-packages (from prefect) (4.9.0)\n",
      "Requirement already satisfied: apprise<2.0.0,>=1.1.0 in /Library/Frameworks/Python.framework/Versions/3.11/lib/python3.11/site-packages (from prefect) (1.9.3)\n",
      "Requirement already satisfied: asgi-lifespan<3.0,>=1.0 in /Library/Frameworks/Python.framework/Versions/3.11/lib/python3.11/site-packages (from prefect) (2.1.0)\n",
      "Requirement already satisfied: asyncpg<1.0.0,>=0.23 in /Library/Frameworks/Python.framework/Versions/3.11/lib/python3.11/site-packages (from prefect) (0.30.0)\n",
      "Requirement already satisfied: cachetools<6.0,>=5.3 in /Library/Frameworks/Python.framework/Versions/3.11/lib/python3.11/site-packages (from prefect) (5.5.2)\n",
      "Requirement already satisfied: click<8.2,>=8.0 in /Library/Frameworks/Python.framework/Versions/3.11/lib/python3.11/site-packages (from prefect) (8.1.8)\n",
      "Requirement already satisfied: cloudpickle<4.0,>=2.0 in /Library/Frameworks/Python.framework/Versions/3.11/lib/python3.11/site-packages (from prefect) (3.1.1)\n",
      "Requirement already satisfied: coolname<3.0.0,>=1.0.4 in /Library/Frameworks/Python.framework/Versions/3.11/lib/python3.11/site-packages (from prefect) (2.2.0)\n",
      "Requirement already satisfied: cryptography>=36.0.1 in /Library/Frameworks/Python.framework/Versions/3.11/lib/python3.11/site-packages (from prefect) (44.0.3)\n",
      "Requirement already satisfied: dateparser<2.0.0,>=1.1.1 in /Library/Frameworks/Python.framework/Versions/3.11/lib/python3.11/site-packages (from prefect) (1.2.1)\n",
      "Requirement already satisfied: docker<8.0,>=4.0 in /Library/Frameworks/Python.framework/Versions/3.11/lib/python3.11/site-packages (from prefect) (7.1.0)\n",
      "Requirement already satisfied: exceptiongroup>=1.0.0 in /Library/Frameworks/Python.framework/Versions/3.11/lib/python3.11/site-packages (from prefect) (1.2.2)\n",
      "Requirement already satisfied: fastapi<1.0.0,>=0.111.0 in /Library/Frameworks/Python.framework/Versions/3.11/lib/python3.11/site-packages (from prefect) (0.115.12)\n",
      "Requirement already satisfied: fsspec>=2022.5.0 in /Library/Frameworks/Python.framework/Versions/3.11/lib/python3.11/site-packages (from prefect) (2025.3.2)\n",
      "Requirement already satisfied: graphviz>=0.20.1 in /Library/Frameworks/Python.framework/Versions/3.11/lib/python3.11/site-packages (from prefect) (0.20.3)\n",
      "Requirement already satisfied: griffe<2.0.0,>=0.49.0 in /Library/Frameworks/Python.framework/Versions/3.11/lib/python3.11/site-packages (from prefect) (1.7.3)\n",
      "Requirement already satisfied: httpcore<2.0.0,>=1.0.5 in /Library/Frameworks/Python.framework/Versions/3.11/lib/python3.11/site-packages (from prefect) (1.0.9)\n",
      "Requirement already satisfied: httpx!=0.23.2,>=0.23 in /Library/Frameworks/Python.framework/Versions/3.11/lib/python3.11/site-packages (from httpx[http2]!=0.23.2,>=0.23->prefect) (0.28.1)\n",
      "Requirement already satisfied: humanize<5.0.0,>=4.9.0 in /Library/Frameworks/Python.framework/Versions/3.11/lib/python3.11/site-packages (from prefect) (4.12.3)\n",
      "Requirement already satisfied: jinja2-humanize-extension>=0.4.0 in /Library/Frameworks/Python.framework/Versions/3.11/lib/python3.11/site-packages (from prefect) (0.4.0)\n",
      "Requirement already satisfied: jinja2<4.0.0,>=3.1.6 in /Library/Frameworks/Python.framework/Versions/3.11/lib/python3.11/site-packages (from prefect) (3.1.6)\n",
      "Requirement already satisfied: jsonpatch<2.0,>=1.32 in /Library/Frameworks/Python.framework/Versions/3.11/lib/python3.11/site-packages (from prefect) (1.33)\n",
      "Requirement already satisfied: jsonschema<5.0.0,>=4.0.0 in /Library/Frameworks/Python.framework/Versions/3.11/lib/python3.11/site-packages (from prefect) (4.23.0)\n",
      "Requirement already satisfied: opentelemetry-api<2.0.0,>=1.27.0 in /Library/Frameworks/Python.framework/Versions/3.11/lib/python3.11/site-packages (from prefect) (1.32.1)\n",
      "Requirement already satisfied: orjson<4.0,>=3.7 in /Library/Frameworks/Python.framework/Versions/3.11/lib/python3.11/site-packages (from prefect) (3.10.18)\n",
      "Requirement already satisfied: packaging<25.1,>=21.3 in /Library/Frameworks/Python.framework/Versions/3.11/lib/python3.11/site-packages (from prefect) (24.1)\n",
      "Requirement already satisfied: pathspec>=0.8.0 in /Library/Frameworks/Python.framework/Versions/3.11/lib/python3.11/site-packages (from prefect) (0.12.1)\n",
      "Requirement already satisfied: pendulum<4,>=3.0.0 in /Library/Frameworks/Python.framework/Versions/3.11/lib/python3.11/site-packages (from prefect) (3.1.0)\n",
      "Requirement already satisfied: prometheus-client>=0.20.0 in /Library/Frameworks/Python.framework/Versions/3.11/lib/python3.11/site-packages (from prefect) (0.21.1)\n",
      "Requirement already satisfied: pydantic!=2.10.0,<3.0.0,>=2.9 in /Library/Frameworks/Python.framework/Versions/3.11/lib/python3.11/site-packages (from prefect) (2.11.4)\n",
      "Requirement already satisfied: pydantic-core<3.0.0,>=2.12.0 in /Library/Frameworks/Python.framework/Versions/3.11/lib/python3.11/site-packages (from prefect) (2.33.2)\n",
      "Requirement already satisfied: pydantic-extra-types<3.0.0,>=2.8.2 in /Library/Frameworks/Python.framework/Versions/3.11/lib/python3.11/site-packages (from prefect) (2.10.4)\n",
      "Requirement already satisfied: pydantic-settings!=2.9.0,<3.0.0,>2.2.1 in /Library/Frameworks/Python.framework/Versions/3.11/lib/python3.11/site-packages (from prefect) (2.9.1)\n",
      "Requirement already satisfied: python-dateutil<3.0.0,>=2.8.2 in /Library/Frameworks/Python.framework/Versions/3.11/lib/python3.11/site-packages (from prefect) (2.9.0.post0)\n",
      "Requirement already satisfied: python-slugify<9.0,>=5.0 in /Library/Frameworks/Python.framework/Versions/3.11/lib/python3.11/site-packages (from prefect) (8.0.4)\n",
      "Requirement already satisfied: python-socks<3.0,>=2.5.3 in /Library/Frameworks/Python.framework/Versions/3.11/lib/python3.11/site-packages (from python-socks[asyncio]<3.0,>=2.5.3->prefect) (2.7.1)\n",
      "Requirement already satisfied: pytz<2026,>=2021.1 in /Library/Frameworks/Python.framework/Versions/3.11/lib/python3.11/site-packages (from prefect) (2025.2)\n",
      "Requirement already satisfied: pyyaml<7.0.0,>=5.4.1 in /Library/Frameworks/Python.framework/Versions/3.11/lib/python3.11/site-packages (from prefect) (6.0.2)\n",
      "Requirement already satisfied: readchar<5.0.0,>=4.0.0 in /Library/Frameworks/Python.framework/Versions/3.11/lib/python3.11/site-packages (from prefect) (4.2.1)\n",
      "Requirement already satisfied: rfc3339-validator<0.2.0,>=0.1.4 in /Library/Frameworks/Python.framework/Versions/3.11/lib/python3.11/site-packages (from prefect) (0.1.4)\n",
      "Requirement already satisfied: rich<15.0,>=11.0 in /Library/Frameworks/Python.framework/Versions/3.11/lib/python3.11/site-packages (from prefect) (14.0.0)\n",
      "Requirement already satisfied: ruamel-yaml>=0.17.0 in /Library/Frameworks/Python.framework/Versions/3.11/lib/python3.11/site-packages (from prefect) (0.18.10)\n",
      "Requirement already satisfied: sniffio<2.0.0,>=1.3.0 in /Library/Frameworks/Python.framework/Versions/3.11/lib/python3.11/site-packages (from prefect) (1.3.1)\n",
      "Requirement already satisfied: sqlalchemy<3.0.0,>=2.0 in /Library/Frameworks/Python.framework/Versions/3.11/lib/python3.11/site-packages (from sqlalchemy[asyncio]<3.0.0,>=2.0->prefect) (2.0.40)\n",
      "Requirement already satisfied: toml>=0.10.0 in /Library/Frameworks/Python.framework/Versions/3.11/lib/python3.11/site-packages (from prefect) (0.10.2)\n",
      "Requirement already satisfied: typer!=0.12.2,<0.16.0,>=0.12.0 in /Library/Frameworks/Python.framework/Versions/3.11/lib/python3.11/site-packages (from prefect) (0.15.3)\n",
      "Requirement already satisfied: typing-extensions<5.0.0,>=4.10.0 in /Library/Frameworks/Python.framework/Versions/3.11/lib/python3.11/site-packages (from prefect) (4.12.2)\n",
      "Requirement already satisfied: ujson<6.0.0,>=5.8.0 in /Library/Frameworks/Python.framework/Versions/3.11/lib/python3.11/site-packages (from prefect) (5.10.0)\n",
      "Requirement already satisfied: uv>=0.6.0 in /Library/Frameworks/Python.framework/Versions/3.11/lib/python3.11/site-packages (from prefect) (0.7.2)\n",
      "Requirement already satisfied: uvicorn!=0.29.0,>=0.14.0 in /Library/Frameworks/Python.framework/Versions/3.11/lib/python3.11/site-packages (from prefect) (0.34.2)\n",
      "Requirement already satisfied: websockets<16.0,>=13.0 in /Library/Frameworks/Python.framework/Versions/3.11/lib/python3.11/site-packages (from prefect) (15.0.1)\n",
      "Requirement already satisfied: Mako in /Library/Frameworks/Python.framework/Versions/3.11/lib/python3.11/site-packages (from alembic<2.0.0,>=1.7.5->prefect) (1.3.10)\n",
      "Requirement already satisfied: idna>=2.8 in /Library/Frameworks/Python.framework/Versions/3.11/lib/python3.11/site-packages (from anyio<5.0.0,>=4.4.0->prefect) (3.10)\n",
      "Requirement already satisfied: certifi in /Library/Frameworks/Python.framework/Versions/3.11/lib/python3.11/site-packages (from apprise<2.0.0,>=1.1.0->prefect) (2022.12.7)\n",
      "Requirement already satisfied: requests in /Library/Frameworks/Python.framework/Versions/3.11/lib/python3.11/site-packages (from apprise<2.0.0,>=1.1.0->prefect) (2.32.3)\n",
      "Requirement already satisfied: requests-oauthlib in /Library/Frameworks/Python.framework/Versions/3.11/lib/python3.11/site-packages (from apprise<2.0.0,>=1.1.0->prefect) (2.0.0)\n",
      "Requirement already satisfied: markdown in /Library/Frameworks/Python.framework/Versions/3.11/lib/python3.11/site-packages (from apprise<2.0.0,>=1.1.0->prefect) (3.8)\n",
      "Requirement already satisfied: regex!=2019.02.19,!=2021.8.27,>=2015.06.24 in /Library/Frameworks/Python.framework/Versions/3.11/lib/python3.11/site-packages (from dateparser<2.0.0,>=1.1.1->prefect) (2024.11.6)\n",
      "Requirement already satisfied: tzlocal>=0.2 in /Library/Frameworks/Python.framework/Versions/3.11/lib/python3.11/site-packages (from dateparser<2.0.0,>=1.1.1->prefect) (5.3.1)\n",
      "Requirement already satisfied: urllib3>=1.26.0 in /Library/Frameworks/Python.framework/Versions/3.11/lib/python3.11/site-packages (from docker<8.0,>=4.0->prefect) (2.4.0)\n",
      "Requirement already satisfied: starlette<0.47.0,>=0.40.0 in /Library/Frameworks/Python.framework/Versions/3.11/lib/python3.11/site-packages (from fastapi<1.0.0,>=0.111.0->prefect) (0.46.2)\n",
      "Requirement already satisfied: colorama>=0.4 in /Library/Frameworks/Python.framework/Versions/3.11/lib/python3.11/site-packages (from griffe<2.0.0,>=0.49.0->prefect) (0.4.6)\n",
      "Requirement already satisfied: h11>=0.16 in /Library/Frameworks/Python.framework/Versions/3.11/lib/python3.11/site-packages (from httpcore<2.0.0,>=1.0.5->prefect) (0.16.0)\n",
      "Requirement already satisfied: MarkupSafe>=2.0 in /Library/Frameworks/Python.framework/Versions/3.11/lib/python3.11/site-packages (from jinja2<4.0.0,>=3.1.6->prefect) (3.0.2)\n",
      "Requirement already satisfied: jsonpointer>=1.9 in /Library/Frameworks/Python.framework/Versions/3.11/lib/python3.11/site-packages (from jsonpatch<2.0,>=1.32->prefect) (3.0.0)\n",
      "Requirement already satisfied: attrs>=22.2.0 in /Library/Frameworks/Python.framework/Versions/3.11/lib/python3.11/site-packages (from jsonschema<5.0.0,>=4.0.0->prefect) (25.3.0)\n",
      "Requirement already satisfied: jsonschema-specifications>=2023.03.6 in /Library/Frameworks/Python.framework/Versions/3.11/lib/python3.11/site-packages (from jsonschema<5.0.0,>=4.0.0->prefect) (2025.4.1)\n",
      "Requirement already satisfied: referencing>=0.28.4 in /Library/Frameworks/Python.framework/Versions/3.11/lib/python3.11/site-packages (from jsonschema<5.0.0,>=4.0.0->prefect) (0.36.2)\n",
      "Requirement already satisfied: rpds-py>=0.7.1 in /Library/Frameworks/Python.framework/Versions/3.11/lib/python3.11/site-packages (from jsonschema<5.0.0,>=4.0.0->prefect) (0.24.0)\n",
      "Requirement already satisfied: deprecated>=1.2.6 in /Library/Frameworks/Python.framework/Versions/3.11/lib/python3.11/site-packages (from opentelemetry-api<2.0.0,>=1.27.0->prefect) (1.2.18)\n",
      "Requirement already satisfied: importlib-metadata<8.7.0,>=6.0 in /Library/Frameworks/Python.framework/Versions/3.11/lib/python3.11/site-packages (from opentelemetry-api<2.0.0,>=1.27.0->prefect) (8.6.1)\n",
      "Requirement already satisfied: zipp>=3.20 in /Library/Frameworks/Python.framework/Versions/3.11/lib/python3.11/site-packages (from importlib-metadata<8.7.0,>=6.0->opentelemetry-api<2.0.0,>=1.27.0->prefect) (3.21.0)\n",
      "Requirement already satisfied: tzdata>=2020.1 in /Library/Frameworks/Python.framework/Versions/3.11/lib/python3.11/site-packages (from pendulum<4,>=3.0.0->prefect) (2025.2)\n",
      "Requirement already satisfied: annotated-types>=0.6.0 in /Library/Frameworks/Python.framework/Versions/3.11/lib/python3.11/site-packages (from pydantic!=2.10.0,<3.0.0,>=2.9->prefect) (0.7.0)\n",
      "Requirement already satisfied: typing-inspection>=0.4.0 in /Library/Frameworks/Python.framework/Versions/3.11/lib/python3.11/site-packages (from pydantic!=2.10.0,<3.0.0,>=2.9->prefect) (0.4.0)\n",
      "Requirement already satisfied: python-dotenv>=0.21.0 in /Library/Frameworks/Python.framework/Versions/3.11/lib/python3.11/site-packages (from pydantic-settings!=2.9.0,<3.0.0,>2.2.1->prefect) (1.1.0)\n",
      "Requirement already satisfied: six>=1.5 in /Library/Frameworks/Python.framework/Versions/3.11/lib/python3.11/site-packages (from python-dateutil<3.0.0,>=2.8.2->prefect) (1.16.0)\n",
      "Requirement already satisfied: text-unidecode>=1.3 in /Library/Frameworks/Python.framework/Versions/3.11/lib/python3.11/site-packages (from python-slugify<9.0,>=5.0->prefect) (1.3)\n",
      "Requirement already satisfied: markdown-it-py>=2.2.0 in /Library/Frameworks/Python.framework/Versions/3.11/lib/python3.11/site-packages (from rich<15.0,>=11.0->prefect) (3.0.0)\n",
      "Requirement already satisfied: pygments<3.0.0,>=2.13.0 in /Library/Frameworks/Python.framework/Versions/3.11/lib/python3.11/site-packages (from rich<15.0,>=11.0->prefect) (2.18.0)\n",
      "Requirement already satisfied: greenlet>=1 in /Library/Frameworks/Python.framework/Versions/3.11/lib/python3.11/site-packages (from sqlalchemy[asyncio]<3.0.0,>=2.0->prefect) (3.2.1)\n",
      "Requirement already satisfied: shellingham>=1.3.0 in /Library/Frameworks/Python.framework/Versions/3.11/lib/python3.11/site-packages (from typer!=0.12.2,<0.16.0,>=0.12.0->prefect) (1.5.4)\n",
      "Requirement already satisfied: cffi>=1.12 in /Library/Frameworks/Python.framework/Versions/3.11/lib/python3.11/site-packages (from cryptography>=36.0.1->prefect) (1.17.1)\n",
      "Requirement already satisfied: pycparser in /Library/Frameworks/Python.framework/Versions/3.11/lib/python3.11/site-packages (from cffi>=1.12->cryptography>=36.0.1->prefect) (2.22)\n",
      "Requirement already satisfied: wrapt<2,>=1.10 in /Library/Frameworks/Python.framework/Versions/3.11/lib/python3.11/site-packages (from deprecated>=1.2.6->opentelemetry-api<2.0.0,>=1.27.0->prefect) (1.17.2)\n",
      "Requirement already satisfied: h2<5,>=3 in /Library/Frameworks/Python.framework/Versions/3.11/lib/python3.11/site-packages (from httpx[http2]!=0.23.2,>=0.23->prefect) (4.2.0)\n",
      "Requirement already satisfied: hyperframe<7,>=6.1 in /Library/Frameworks/Python.framework/Versions/3.11/lib/python3.11/site-packages (from h2<5,>=3->httpx[http2]!=0.23.2,>=0.23->prefect) (6.1.0)\n",
      "Requirement already satisfied: hpack<5,>=4.1 in /Library/Frameworks/Python.framework/Versions/3.11/lib/python3.11/site-packages (from h2<5,>=3->httpx[http2]!=0.23.2,>=0.23->prefect) (4.1.0)\n",
      "Requirement already satisfied: mdurl~=0.1 in /Library/Frameworks/Python.framework/Versions/3.11/lib/python3.11/site-packages (from markdown-it-py>=2.2.0->rich<15.0,>=11.0->prefect) (0.1.2)\n",
      "Requirement already satisfied: charset-normalizer<4,>=2 in /Library/Frameworks/Python.framework/Versions/3.11/lib/python3.11/site-packages (from requests->apprise<2.0.0,>=1.1.0->prefect) (3.4.1)\n",
      "Requirement already satisfied: ruamel.yaml.clib>=0.2.7 in /Library/Frameworks/Python.framework/Versions/3.11/lib/python3.11/site-packages (from ruamel-yaml>=0.17.0->prefect) (0.2.12)\n",
      "Requirement already satisfied: oauthlib>=3.0.0 in /Library/Frameworks/Python.framework/Versions/3.11/lib/python3.11/site-packages (from requests-oauthlib->apprise<2.0.0,>=1.1.0->prefect) (3.2.2)\n",
      "\n",
      "\u001b[1m[\u001b[0m\u001b[34;49mnotice\u001b[0m\u001b[1;39;49m]\u001b[0m\u001b[39;49m A new release of pip is available: \u001b[0m\u001b[31;49m25.1\u001b[0m\u001b[39;49m -> \u001b[0m\u001b[32;49m25.1.1\u001b[0m\n",
      "\u001b[1m[\u001b[0m\u001b[34;49mnotice\u001b[0m\u001b[1;39;49m]\u001b[0m\u001b[39;49m To update, run: \u001b[0m\u001b[32;49mpip3 install --upgrade pip\u001b[0m\n"
     ]
    }
   ],
   "source": [
    "import sys\n",
    "!{sys.executable} -m pip install prefect\n"
   ]
  },
  {
   "cell_type": "code",
   "execution_count": 9,
   "id": "1a75726b",
   "metadata": {},
   "outputs": [
    {
     "name": "stdout",
     "output_type": "stream",
     "text": [
      "Requirement already satisfied: prefect in /opt/anaconda3/lib/python3.9/site-packages (2.14.21)\n",
      "Requirement already satisfied: apprise<2.0.0,>=1.1.0 in /opt/anaconda3/lib/python3.9/site-packages (from prefect) (1.9.3)\n",
      "Requirement already satisfied: python-slugify<9.0,>=5.0 in /opt/anaconda3/lib/python3.9/site-packages (from prefect) (5.0.2)\n",
      "Requirement already satisfied: pydantic[email]!=2.0.0,!=2.0.1,!=2.1.0,<3.0.0,>=1.10.0 in /opt/anaconda3/lib/python3.9/site-packages (from prefect) (2.11.4)\n",
      "Requirement already satisfied: graphviz>=0.20.1 in /opt/anaconda3/lib/python3.9/site-packages (from prefect) (0.20.3)\n",
      "Requirement already satisfied: importlib-metadata>=4.4 in /opt/anaconda3/lib/python3.9/site-packages (from prefect) (8.6.1)\n",
      "Requirement already satisfied: docker<7.0,>=4.0 in /opt/anaconda3/lib/python3.9/site-packages (from prefect) (6.1.3)\n",
      "Requirement already satisfied: httpx[http2]!=0.23.2,>=0.23 in /opt/anaconda3/lib/python3.9/site-packages (from prefect) (0.28.1)\n",
      "Requirement already satisfied: cryptography>=36.0.1 in /opt/anaconda3/lib/python3.9/site-packages (from prefect) (44.0.3)\n",
      "Requirement already satisfied: kubernetes<30.0.0,>=24.2.0 in /opt/anaconda3/lib/python3.9/site-packages (from prefect) (29.0.0)\n",
      "Requirement already satisfied: readchar<5.0.0,>=4.0.0 in /opt/anaconda3/lib/python3.9/site-packages (from prefect) (4.2.1)\n",
      "Requirement already satisfied: jsonpatch<2.0,>=1.32 in /opt/anaconda3/lib/python3.9/site-packages (from prefect) (1.33)\n",
      "Requirement already satisfied: httpcore<2.0.0,>=0.15.0 in /opt/anaconda3/lib/python3.9/site-packages (from prefect) (1.0.9)\n",
      "Requirement already satisfied: typing-extensions<5.0.0,>=4.5.0 in /opt/anaconda3/lib/python3.9/site-packages (from prefect) (4.13.2)\n",
      "Requirement already satisfied: jsonschema<5.0.0,>=3.2.0 in /opt/anaconda3/lib/python3.9/site-packages (from prefect) (4.21.1)\n",
      "Requirement already satisfied: croniter<3.0.0,>=1.0.12 in /opt/anaconda3/lib/python3.9/site-packages (from prefect) (2.0.7)\n",
      "Requirement already satisfied: anyio<4.0.0,>=3.7.1 in /opt/anaconda3/lib/python3.9/site-packages (from prefect) (3.7.1)\n",
      "Requirement already satisfied: starlette<0.33.0,>=0.27.0 in /opt/anaconda3/lib/python3.9/site-packages (from prefect) (0.32.0.post1)\n",
      "Requirement already satisfied: dateparser<2.0.0,>=1.1.1 in /opt/anaconda3/lib/python3.9/site-packages (from prefect) (1.2.1)\n",
      "Requirement already satisfied: websockets<13.0,>=10.4 in /opt/anaconda3/lib/python3.9/site-packages (from prefect) (12.0)\n",
      "Requirement already satisfied: ruamel.yaml>=0.17.0 in /opt/anaconda3/lib/python3.9/site-packages (from prefect) (0.18.10)\n",
      "Requirement already satisfied: aiosqlite>=0.17.0 in /opt/anaconda3/lib/python3.9/site-packages (from prefect) (0.21.0)\n",
      "Requirement already satisfied: typer>=0.4.2 in /opt/anaconda3/lib/python3.9/site-packages (from prefect) (0.15.3)\n",
      "Requirement already satisfied: cachetools<6.0,>=5.3 in /opt/anaconda3/lib/python3.9/site-packages (from prefect) (5.5.2)\n",
      "Requirement already satisfied: sniffio<2.0.0,>=1.3.0 in /opt/anaconda3/lib/python3.9/site-packages (from prefect) (1.3.1)\n",
      "Requirement already satisfied: griffe>=0.20.0 in /opt/anaconda3/lib/python3.9/site-packages (from prefect) (1.7.3)\n",
      "Requirement already satisfied: pendulum<3.0 in /opt/anaconda3/lib/python3.9/site-packages (from prefect) (2.1.2)\n",
      "Requirement already satisfied: asgi-lifespan<3.0,>=1.0 in /opt/anaconda3/lib/python3.9/site-packages (from prefect) (2.1.0)\n",
      "Requirement already satisfied: uvicorn>=0.14.0 in /opt/anaconda3/lib/python3.9/site-packages (from prefect) (0.34.2)\n",
      "Requirement already satisfied: click<8.2,>=8.0 in /opt/anaconda3/lib/python3.9/site-packages (from prefect) (8.1.7)\n",
      "Requirement already satisfied: jinja2<4.0.0,>=3.0.0 in /opt/anaconda3/lib/python3.9/site-packages (from prefect) (3.1.6)\n",
      "Requirement already satisfied: coolname<3.0.0,>=1.0.4 in /opt/anaconda3/lib/python3.9/site-packages (from prefect) (2.2.0)\n",
      "Requirement already satisfied: asyncpg>=0.23 in /opt/anaconda3/lib/python3.9/site-packages (from prefect) (0.30.0)\n",
      "Requirement already satisfied: rich<14.0,>=11.0 in /opt/anaconda3/lib/python3.9/site-packages (from prefect) (13.9.4)\n",
      "Requirement already satisfied: pyyaml<7.0.0,>=5.4.1 in /opt/anaconda3/lib/python3.9/site-packages (from prefect) (6.0)\n",
      "Requirement already satisfied: cloudpickle<4.0,>=2.0 in /opt/anaconda3/lib/python3.9/site-packages (from prefect) (2.0.0)\n",
      "Requirement already satisfied: orjson<4.0,>=3.7 in /opt/anaconda3/lib/python3.9/site-packages (from prefect) (3.10.18)\n",
      "Requirement already satisfied: python-dateutil<3.0.0,>=2.8.2 in /opt/anaconda3/lib/python3.9/site-packages (from prefect) (2.8.2)\n",
      "Requirement already satisfied: packaging<24.3,>=21.3 in /opt/anaconda3/lib/python3.9/site-packages (from prefect) (21.3)\n",
      "Requirement already satisfied: toml>=0.10.0 in /opt/anaconda3/lib/python3.9/site-packages (from prefect) (0.10.2)\n",
      "Requirement already satisfied: pytz<2025,>=2021.1 in /opt/anaconda3/lib/python3.9/site-packages (from prefect) (2024.2)\n",
      "Requirement already satisfied: sqlalchemy[asyncio]!=1.4.33,<3.0.0,>=1.4.22 in /opt/anaconda3/lib/python3.9/site-packages (from prefect) (2.0.36)\n",
      "Requirement already satisfied: pathspec>=0.8.0 in /opt/anaconda3/lib/python3.9/site-packages (from prefect) (0.12.1)\n",
      "Requirement already satisfied: alembic<2.0.0,>=1.7.5 in /opt/anaconda3/lib/python3.9/site-packages (from prefect) (1.15.2)\n",
      "Requirement already satisfied: fsspec>=2022.5.0 in /opt/anaconda3/lib/python3.9/site-packages (from prefect) (2025.3.2)\n",
      "Requirement already satisfied: ujson<6.0.0,>=5.8.0 in /opt/anaconda3/lib/python3.9/site-packages (from prefect) (5.10.0)\n",
      "Requirement already satisfied: Mako in /opt/anaconda3/lib/python3.9/site-packages (from alembic<2.0.0,>=1.7.5->prefect) (1.3.10)\n",
      "Requirement already satisfied: exceptiongroup in /opt/anaconda3/lib/python3.9/site-packages (from anyio<4.0.0,>=3.7.1->prefect) (1.2.2)\n",
      "Requirement already satisfied: idna>=2.8 in /opt/anaconda3/lib/python3.9/site-packages (from anyio<4.0.0,>=3.7.1->prefect) (3.3)\n",
      "Requirement already satisfied: markdown in /opt/anaconda3/lib/python3.9/site-packages (from apprise<2.0.0,>=1.1.0->prefect) (3.3.4)\n",
      "Requirement already satisfied: requests in /opt/anaconda3/lib/python3.9/site-packages (from apprise<2.0.0,>=1.1.0->prefect) (2.27.1)\n",
      "Requirement already satisfied: requests-oauthlib in /opt/anaconda3/lib/python3.9/site-packages (from apprise<2.0.0,>=1.1.0->prefect) (2.0.0)\n",
      "Requirement already satisfied: certifi in /opt/anaconda3/lib/python3.9/site-packages (from apprise<2.0.0,>=1.1.0->prefect) (2021.10.8)\n",
      "Requirement already satisfied: async-timeout>=4.0.3 in /opt/anaconda3/lib/python3.9/site-packages (from asyncpg>=0.23->prefect) (5.0.1)\n",
      "Requirement already satisfied: cffi>=1.12 in /opt/anaconda3/lib/python3.9/site-packages (from cryptography>=36.0.1->prefect) (1.15.0)\n",
      "Requirement already satisfied: pycparser in /opt/anaconda3/lib/python3.9/site-packages (from cffi>=1.12->cryptography>=36.0.1->prefect) (2.21)\n",
      "Requirement already satisfied: tzlocal>=0.2 in /opt/anaconda3/lib/python3.9/site-packages (from dateparser<2.0.0,>=1.1.1->prefect) (5.3.1)\n",
      "Requirement already satisfied: regex!=2019.02.19,!=2021.8.27,>=2015.06.24 in /opt/anaconda3/lib/python3.9/site-packages (from dateparser<2.0.0,>=1.1.1->prefect) (2022.3.15)\n",
      "Requirement already satisfied: websocket-client>=0.32.0 in /opt/anaconda3/lib/python3.9/site-packages (from docker<7.0,>=4.0->prefect) (0.58.0)\n",
      "Requirement already satisfied: urllib3>=1.26.0 in /opt/anaconda3/lib/python3.9/site-packages (from docker<7.0,>=4.0->prefect) (1.26.9)\n",
      "Requirement already satisfied: colorama>=0.4 in /opt/anaconda3/lib/python3.9/site-packages (from griffe>=0.20.0->prefect) (0.4.4)\n",
      "Requirement already satisfied: h11>=0.16 in /opt/anaconda3/lib/python3.9/site-packages (from httpcore<2.0.0,>=0.15.0->prefect) (0.16.0)\n",
      "Requirement already satisfied: h2<5,>=3 in /opt/anaconda3/lib/python3.9/site-packages (from httpx[http2]!=0.23.2,>=0.23->prefect) (4.2.0)\n",
      "Requirement already satisfied: hpack<5,>=4.1 in /opt/anaconda3/lib/python3.9/site-packages (from h2<5,>=3->httpx[http2]!=0.23.2,>=0.23->prefect) (4.1.0)\n",
      "Requirement already satisfied: hyperframe<7,>=6.1 in /opt/anaconda3/lib/python3.9/site-packages (from h2<5,>=3->httpx[http2]!=0.23.2,>=0.23->prefect) (6.1.0)\n",
      "Requirement already satisfied: zipp>=3.20 in /opt/anaconda3/lib/python3.9/site-packages (from importlib-metadata>=4.4->prefect) (3.21.0)\n",
      "Requirement already satisfied: MarkupSafe>=2.0 in /opt/anaconda3/lib/python3.9/site-packages (from jinja2<4.0.0,>=3.0.0->prefect) (3.0.2)\n",
      "Requirement already satisfied: jsonpointer>=1.9 in /opt/anaconda3/lib/python3.9/site-packages (from jsonpatch<2.0,>=1.32->prefect) (3.0.0)\n",
      "Requirement already satisfied: jsonschema-specifications>=2023.03.6 in /opt/anaconda3/lib/python3.9/site-packages (from jsonschema<5.0.0,>=3.2.0->prefect) (2025.4.1)\n",
      "Requirement already satisfied: referencing>=0.28.4 in /opt/anaconda3/lib/python3.9/site-packages (from jsonschema<5.0.0,>=3.2.0->prefect) (0.36.2)\n",
      "Requirement already satisfied: rpds-py>=0.7.1 in /opt/anaconda3/lib/python3.9/site-packages (from jsonschema<5.0.0,>=3.2.0->prefect) (0.24.0)\n",
      "Requirement already satisfied: attrs>=22.2.0 in /opt/anaconda3/lib/python3.9/site-packages (from jsonschema<5.0.0,>=3.2.0->prefect) (25.3.0)\n",
      "Requirement already satisfied: google-auth>=1.0.1 in /opt/anaconda3/lib/python3.9/site-packages (from kubernetes<30.0.0,>=24.2.0->prefect) (2.40.0)\n",
      "Requirement already satisfied: six>=1.9.0 in /opt/anaconda3/lib/python3.9/site-packages (from kubernetes<30.0.0,>=24.2.0->prefect) (1.16.0)\n",
      "Requirement already satisfied: oauthlib>=3.2.2 in /opt/anaconda3/lib/python3.9/site-packages (from kubernetes<30.0.0,>=24.2.0->prefect) (3.2.2)\n",
      "Requirement already satisfied: pyasn1-modules>=0.2.1 in /opt/anaconda3/lib/python3.9/site-packages (from google-auth>=1.0.1->kubernetes<30.0.0,>=24.2.0->prefect) (0.2.8)\n",
      "Requirement already satisfied: rsa<5,>=3.1.4 in /opt/anaconda3/lib/python3.9/site-packages (from google-auth>=1.0.1->kubernetes<30.0.0,>=24.2.0->prefect) (4.7.2)\n",
      "Requirement already satisfied: pyparsing!=3.0.5,>=2.0.2 in /opt/anaconda3/lib/python3.9/site-packages (from packaging<24.3,>=21.3->prefect) (3.0.4)\n",
      "Requirement already satisfied: pytzdata>=2020.1 in /opt/anaconda3/lib/python3.9/site-packages (from pendulum<3.0->prefect) (2020.1)\n",
      "Requirement already satisfied: pyasn1<0.5.0,>=0.4.6 in /opt/anaconda3/lib/python3.9/site-packages (from pyasn1-modules>=0.2.1->google-auth>=1.0.1->kubernetes<30.0.0,>=24.2.0->prefect) (0.4.8)\n",
      "Requirement already satisfied: pydantic-core==2.33.2 in /opt/anaconda3/lib/python3.9/site-packages (from pydantic[email]!=2.0.0,!=2.0.1,!=2.1.0,<3.0.0,>=1.10.0->prefect) (2.33.2)\n",
      "Requirement already satisfied: annotated-types>=0.6.0 in /opt/anaconda3/lib/python3.9/site-packages (from pydantic[email]!=2.0.0,!=2.0.1,!=2.1.0,<3.0.0,>=1.10.0->prefect) (0.7.0)\n",
      "Requirement already satisfied: typing-inspection>=0.4.0 in /opt/anaconda3/lib/python3.9/site-packages (from pydantic[email]!=2.0.0,!=2.0.1,!=2.1.0,<3.0.0,>=1.10.0->prefect) (0.4.0)\n",
      "Requirement already satisfied: email-validator>=2.0.0 in /opt/anaconda3/lib/python3.9/site-packages (from pydantic[email]!=2.0.0,!=2.0.1,!=2.1.0,<3.0.0,>=1.10.0->prefect) (2.2.0)\n",
      "Requirement already satisfied: dnspython>=2.0.0 in /opt/anaconda3/lib/python3.9/site-packages (from email-validator>=2.0.0->pydantic[email]!=2.0.0,!=2.0.1,!=2.1.0,<3.0.0,>=1.10.0->prefect) (2.7.0)\n",
      "Requirement already satisfied: text-unidecode>=1.3 in /opt/anaconda3/lib/python3.9/site-packages (from python-slugify<9.0,>=5.0->prefect) (1.3)\n",
      "Requirement already satisfied: charset-normalizer~=2.0.0 in /opt/anaconda3/lib/python3.9/site-packages (from requests->apprise<2.0.0,>=1.1.0->prefect) (2.0.4)\n",
      "Requirement already satisfied: pygments<3.0.0,>=2.13.0 in /opt/anaconda3/lib/python3.9/site-packages (from rich<14.0,>=11.0->prefect) (2.19.1)\n",
      "Requirement already satisfied: markdown-it-py>=2.2.0 in /opt/anaconda3/lib/python3.9/site-packages (from rich<14.0,>=11.0->prefect) (3.0.0)\n",
      "Requirement already satisfied: mdurl~=0.1 in /opt/anaconda3/lib/python3.9/site-packages (from markdown-it-py>=2.2.0->rich<14.0,>=11.0->prefect) (0.1.2)\n",
      "Requirement already satisfied: ruamel.yaml.clib>=0.2.7 in /opt/anaconda3/lib/python3.9/site-packages (from ruamel.yaml>=0.17.0->prefect) (0.2.12)\n",
      "Requirement already satisfied: greenlet!=0.4.17 in /opt/anaconda3/lib/python3.9/site-packages (from sqlalchemy[asyncio]!=1.4.33,<3.0.0,>=1.4.22->prefect) (1.1.1)\n",
      "Requirement already satisfied: shellingham>=1.3.0 in /opt/anaconda3/lib/python3.9/site-packages (from typer>=0.4.2->prefect) (1.5.4)\n"
     ]
    }
   ],
   "source": [
    "!pip install prefect\n"
   ]
  },
  {
   "cell_type": "code",
   "execution_count": 10,
   "id": "66d07d89",
   "metadata": {},
   "outputs": [
    {
     "data": {
      "text/html": [
       "<pre style=\"white-space:pre;overflow-x:auto;line-height:normal;font-family:Menlo,'DejaVu Sans Mono',consolas,'Courier New',monospace\">16:09:32.384 | <span style=\"color: #008080; text-decoration-color: #008080\">INFO</span>    | Flow run<span style=\"color: #800080; text-decoration-color: #800080\"> 'petite-auk'</span> - Beginning flow run<span style=\"color: #800080; text-decoration-color: #800080\"> 'petite-auk'</span> for flow<span style=\"color: #800080; text-decoration-color: #800080; font-weight: bold\"> 'hello_flow: 1.quick_start'</span>\n",
       "</pre>\n"
      ],
      "text/plain": [
       "16:09:32.384 | \u001b[36mINFO\u001b[0m    | Flow run\u001b[35m 'petite-auk'\u001b[0m - Beginning flow run\u001b[35m 'petite-auk'\u001b[0m for flow\u001b[1;35m 'hello_flow: 1.quick_start'\u001b[0m\n"
      ]
     },
     "metadata": {},
     "output_type": "display_data"
    },
    {
     "data": {
      "text/html": [
       "<pre style=\"white-space:pre;overflow-x:auto;line-height:normal;font-family:Menlo,'DejaVu Sans Mono',consolas,'Courier New',monospace\">16:09:32.434 | <span style=\"color: #008080; text-decoration-color: #008080\">INFO</span>    | Task run 'say_hello-055' - Finished in state <span style=\"color: #008000; text-decoration-color: #008000\">Completed</span>()\n",
       "</pre>\n"
      ],
      "text/plain": [
       "16:09:32.434 | \u001b[36mINFO\u001b[0m    | Task run 'say_hello-055' - Finished in state \u001b[32mCompleted\u001b[0m()\n"
      ]
     },
     "metadata": {},
     "output_type": "display_data"
    },
    {
     "data": {
      "text/html": [
       "<pre style=\"white-space:pre;overflow-x:auto;line-height:normal;font-family:Menlo,'DejaVu Sans Mono',consolas,'Courier New',monospace\">16:09:32.444 | <span style=\"color: #008080; text-decoration-color: #008080\">INFO</span>    | Task run 'get_name-a61' - Finished in state <span style=\"color: #008000; text-decoration-color: #008000\">Completed</span>()\n",
       "</pre>\n"
      ],
      "text/plain": [
       "16:09:32.444 | \u001b[36mINFO\u001b[0m    | Task run 'get_name-a61' - Finished in state \u001b[32mCompleted\u001b[0m()\n"
      ]
     },
     "metadata": {},
     "output_type": "display_data"
    },
    {
     "name": "stdout",
     "output_type": "stream",
     "text": [
      ">>> result: Hello, DSI321: Big Data Infrastructure!\n"
     ]
    },
    {
     "data": {
      "text/html": [
       "<pre style=\"white-space:pre;overflow-x:auto;line-height:normal;font-family:Menlo,'DejaVu Sans Mono',consolas,'Courier New',monospace\">16:09:32.468 | <span style=\"color: #008080; text-decoration-color: #008080\">INFO</span>    | Flow run<span style=\"color: #800080; text-decoration-color: #800080\"> 'petite-auk'</span> - Finished in state <span style=\"color: #008000; text-decoration-color: #008000\">Completed</span>()\n",
       "</pre>\n"
      ],
      "text/plain": [
       "16:09:32.468 | \u001b[36mINFO\u001b[0m    | Flow run\u001b[35m 'petite-auk'\u001b[0m - Finished in state \u001b[32mCompleted\u001b[0m()\n"
      ]
     },
     "metadata": {},
     "output_type": "display_data"
    }
   ],
   "source": [
    "from prefect import flow, task\n",
    "\n",
    "@task\n",
    "def say_hello():\n",
    "    return \"Hello, \"\n",
    "\n",
    "@task\n",
    "def get_name():\n",
    "    return \"DSI321: Big Data Infrastructure\"\n",
    "    \n",
    "@flow(name=\"hello_flow: 1.quick_start\")\n",
    "def hello_flow():\n",
    "    result = say_hello() + get_name() + \"!\"\n",
    "    print(f\">>> result: {result}\")\n",
    "    return result\n",
    "\n",
    "if __name__ == '__main__':\n",
    "    hello_flow()\n"
   ]
  }
 ],
 "metadata": {
  "kernelspec": {
   "display_name": "Python 3",
   "language": "python",
   "name": "python3"
  },
  "language_info": {
   "codemirror_mode": {
    "name": "ipython",
    "version": 3
   },
   "file_extension": ".py",
   "mimetype": "text/x-python",
   "name": "python",
   "nbconvert_exporter": "python",
   "pygments_lexer": "ipython3",
   "version": "3.11.1"
  }
 },
 "nbformat": 4,
 "nbformat_minor": 5
}
