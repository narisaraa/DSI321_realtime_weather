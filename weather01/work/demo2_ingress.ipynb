{
 "cells": [
  {
   "cell_type": "code",
   "execution_count": 1,
   "id": "3ba23ef6",
   "metadata": {
    "vscode": {
     "languageId": "plaintext"
    }
   },
   "outputs": [],
   "source": [
    "import pandas as pd\n",
    "import aiohttp\n",
    "import asyncio\n",
    "from datetime import datetime\n",
    "import pytz\n",
    "from prefect import flow, task\n",
    "\n",
    "API_KEY = \"f937ef58aa2555b6d76a1119fd917eed\"\n",
    "WEATHER_URL = \"https://api.openweathermap.org/data/2.5/weather\"\n",
    "POLLUTION_URL = \"http://api.openweathermap.org/data/2.5/air_pollution\"\n",
    "\n",
    "BATCH_SIZE = 25\n",
    "WAIT_BETWEEN_BATCHES = 70  # seconds\n",
    "\n",
    "@task\n",
    "async def fetch_weather_and_pollution(session, row):\n",
    "    lat = row[\"lat\"]\n",
    "    lon = row[\"lon\"]\n",
    "    district = row[\"district_en\"]\n",
    "    province = row[\"province_en\"]\n",
    "\n",
    "    try:\n",
    "        params = {\"lat\": lat, \"lon\": lon, \"appid\": API_KEY, \"units\": \"metric\"}\n",
    "\n",
    "        # Weather API call\n",
    "        async with session.get(WEATHER_URL, params=params) as weather_resp:\n",
    "            weather_data = await weather_resp.json()\n",
    "\n",
    "        if weather_data.get(\"cod\") != 200:\n",
    "            print(f\"[ERROR] Missing weather data for {district}: {weather_data}\")\n",
    "            return None\n",
    "\n",
    "        await asyncio.sleep(2)\n",
    "\n",
    "        # Pollution API call\n",
    "        async with session.get(POLLUTION_URL, params=params) as pollution_resp:\n",
    "            pollution_data = await pollution_resp.json()\n",
    "\n",
    "        if \"list\" not in pollution_data or not pollution_data[\"list\"]:\n",
    "            print(f\"[ERROR] Missing pollution data for {district}: {pollution_data}\")\n",
    "            return None\n",
    "\n",
    "        await asyncio.sleep(2)\n",
    "\n",
    "        timestamp = datetime.now()\n",
    "        thai_tz = pytz.timezone('Asia/Bangkok')\n",
    "        created_at = timestamp.replace(tzinfo=thai_tz)\n",
    "\n",
    "        return {\n",
    "            \"timestamp\": timestamp,\n",
    "            \"year\": timestamp.year,\n",
    "            \"month\": timestamp.month,\n",
    "            \"day\": timestamp.day,\n",
    "            \"hour\": timestamp.hour,\n",
    "            \"minute\": timestamp.minute,\n",
    "            \"created_at\": created_at,\n",
    "            \"district\": district,\n",
    "            \"province\": province,\n",
    "            \"location\": weather_data.get(\"name\", district),\n",
    "            \"weather_main\": weather_data[\"weather\"][0][\"main\"],\n",
    "            \"weather_description\": weather_data[\"weather\"][0][\"description\"],\n",
    "            \"main.temp\": weather_data[\"main\"][\"temp\"],\n",
    "            \"main.temp_min\": weather_data[\"main\"][\"temp_min\"],\n",
    "            \"main.temp_max\": weather_data[\"main\"][\"temp_max\"],\n",
    "            \"main.feels_like\": weather_data[\"main\"][\"feels_like\"],\n",
    "            \"main.pressure\": weather_data[\"main\"][\"pressure\"],\n",
    "            \"main.humidity\": weather_data[\"main\"][\"humidity\"],\n",
    "            \"visibility\": weather_data.get(\"visibility\"),\n",
    "            \"wind.speed\": weather_data[\"wind\"][\"speed\"],\n",
    "            \"wind.deg\": weather_data[\"wind\"][\"deg\"],\n",
    "            \"components_co\": pollution_data[\"list\"][0][\"components\"][\"co\"],\n",
    "            \"components_no\": pollution_data[\"list\"][0][\"components\"][\"no\"],\n",
    "            \"components_no2\": pollution_data[\"list\"][0][\"components\"][\"no2\"],\n",
    "            \"components_o3\": pollution_data[\"list\"][0][\"components\"][\"o3\"],\n",
    "            \"components_so2\": pollution_data[\"list\"][0][\"components\"][\"so2\"],\n",
    "            \"components_pm2_5\": pollution_data[\"list\"][0][\"components\"][\"pm2_5\"],\n",
    "            \"components_pm10\": pollution_data[\"list\"][0][\"components\"][\"pm10\"],\n",
    "            \"components_nh3\": pollution_data[\"list\"][0][\"components\"][\"nh3\"],\n",
    "        }\n",
    "\n",
    "    except Exception as e:\n",
    "        print(f\"[ERROR] Exception for {district}: {e}\")\n",
    "        return None"
   ]
  },
  {
   "cell_type": "code",
   "execution_count": null,
   "id": "018c2b23-0c9b-444b-94cc-ff1b786bfc16",
   "metadata": {},
   "outputs": [
    {
     "data": {
      "text/html": [
       "<pre style=\"white-space:pre;overflow-x:auto;line-height:normal;font-family:Menlo,'DejaVu Sans Mono',consolas,'Courier New',monospace\">21:03:08.089 | <span style=\"color: #008080; text-decoration-color: #008080\">INFO</span>    | prefect.engine - Created flow run<span style=\"color: #800080; text-decoration-color: #800080\"> 'fervent-chimpanzee'</span> for flow<span style=\"color: #800080; text-decoration-color: #800080; font-weight: bold\"> 'weather-flow'</span>\n",
       "</pre>\n"
      ],
      "text/plain": [
       "21:03:08.089 | \u001b[36mINFO\u001b[0m    | prefect.engine - Created flow run\u001b[35m 'fervent-chimpanzee'\u001b[0m for flow\u001b[1;35m 'weather-flow'\u001b[0m\n"
      ]
     },
     "metadata": {},
     "output_type": "display_data"
    },
    {
     "data": {
      "text/html": [
       "<pre style=\"white-space:pre;overflow-x:auto;line-height:normal;font-family:Menlo,'DejaVu Sans Mono',consolas,'Courier New',monospace\">21:03:08.097 | <span style=\"color: #008080; text-decoration-color: #008080\">INFO</span>    | prefect.engine - View at <span style=\"color: #0000ff; text-decoration-color: #0000ff\">http://prefect-server:4200/runs/flow-run/18dc5a06-b012-4e4e-90ee-51f95ddbc259</span>\n",
       "</pre>\n"
      ],
      "text/plain": [
       "21:03:08.097 | \u001b[36mINFO\u001b[0m    | prefect.engine - View at \u001b[94mhttp://prefect-server:4200/runs/flow-run/18dc5a06-b012-4e4e-90ee-51f95ddbc259\u001b[0m\n"
      ]
     },
     "metadata": {},
     "output_type": "display_data"
    },
    {
     "data": {
      "text/html": [
       "<pre style=\"white-space:pre;overflow-x:auto;line-height:normal;font-family:Menlo,'DejaVu Sans Mono',consolas,'Courier New',monospace\">21:03:11.958 | <span style=\"color: #008080; text-decoration-color: #008080\">INFO</span>    | Task run 'fetch_weather_and_pollution-5' - Created task run 'fetch_weather_and_pollution-5' for task 'fetch_weather_and_pollution'\n",
       "</pre>\n"
      ],
      "text/plain": [
       "21:03:11.958 | \u001b[36mINFO\u001b[0m    | Task run 'fetch_weather_and_pollution-5' - Created task run 'fetch_weather_and_pollution-5' for task 'fetch_weather_and_pollution'\n"
      ]
     },
     "metadata": {},
     "output_type": "display_data"
    },
    {
     "data": {
      "text/html": [
       "<pre style=\"white-space:pre;overflow-x:auto;line-height:normal;font-family:Menlo,'DejaVu Sans Mono',consolas,'Courier New',monospace\">21:03:12.057 | <span style=\"color: #008080; text-decoration-color: #008080\">INFO</span>    | Task run 'fetch_weather_and_pollution-0' - Created task run 'fetch_weather_and_pollution-0' for task 'fetch_weather_and_pollution'\n",
       "</pre>\n"
      ],
      "text/plain": [
       "21:03:12.057 | \u001b[36mINFO\u001b[0m    | Task run 'fetch_weather_and_pollution-0' - Created task run 'fetch_weather_and_pollution-0' for task 'fetch_weather_and_pollution'\n"
      ]
     },
     "metadata": {},
     "output_type": "display_data"
    },
    {
     "data": {
      "text/html": [
       "<pre style=\"white-space:pre;overflow-x:auto;line-height:normal;font-family:Menlo,'DejaVu Sans Mono',consolas,'Courier New',monospace\">21:03:12.138 | <span style=\"color: #008080; text-decoration-color: #008080\">INFO</span>    | Task run 'fetch_weather_and_pollution-3' - Created task run 'fetch_weather_and_pollution-3' for task 'fetch_weather_and_pollution'\n",
       "</pre>\n"
      ],
      "text/plain": [
       "21:03:12.138 | \u001b[36mINFO\u001b[0m    | Task run 'fetch_weather_and_pollution-3' - Created task run 'fetch_weather_and_pollution-3' for task 'fetch_weather_and_pollution'\n"
      ]
     },
     "metadata": {},
     "output_type": "display_data"
    },
    {
     "data": {
      "text/html": [
       "<pre style=\"white-space:pre;overflow-x:auto;line-height:normal;font-family:Menlo,'DejaVu Sans Mono',consolas,'Courier New',monospace\">21:03:12.212 | <span style=\"color: #008080; text-decoration-color: #008080\">INFO</span>    | Task run 'fetch_weather_and_pollution-1' - Created task run 'fetch_weather_and_pollution-1' for task 'fetch_weather_and_pollution'\n",
       "</pre>\n"
      ],
      "text/plain": [
       "21:03:12.212 | \u001b[36mINFO\u001b[0m    | Task run 'fetch_weather_and_pollution-1' - Created task run 'fetch_weather_and_pollution-1' for task 'fetch_weather_and_pollution'\n"
      ]
     },
     "metadata": {},
     "output_type": "display_data"
    },
    {
     "data": {
      "text/html": [
       "<pre style=\"white-space:pre;overflow-x:auto;line-height:normal;font-family:Menlo,'DejaVu Sans Mono',consolas,'Courier New',monospace\">21:03:12.569 | <span style=\"color: #008080; text-decoration-color: #008080\">INFO</span>    | Task run 'fetch_weather_and_pollution-24' - Created task run 'fetch_weather_and_pollution-24' for task 'fetch_weather_and_pollution'\n",
       "</pre>\n"
      ],
      "text/plain": [
       "21:03:12.569 | \u001b[36mINFO\u001b[0m    | Task run 'fetch_weather_and_pollution-24' - Created task run 'fetch_weather_and_pollution-24' for task 'fetch_weather_and_pollution'\n"
      ]
     },
     "metadata": {},
     "output_type": "display_data"
    },
    {
     "data": {
      "text/html": [
       "<pre style=\"white-space:pre;overflow-x:auto;line-height:normal;font-family:Menlo,'DejaVu Sans Mono',consolas,'Courier New',monospace\">21:03:12.647 | <span style=\"color: #008080; text-decoration-color: #008080\">INFO</span>    | Task run 'fetch_weather_and_pollution-2' - Created task run 'fetch_weather_and_pollution-2' for task 'fetch_weather_and_pollution'\n",
       "</pre>\n"
      ],
      "text/plain": [
       "21:03:12.647 | \u001b[36mINFO\u001b[0m    | Task run 'fetch_weather_and_pollution-2' - Created task run 'fetch_weather_and_pollution-2' for task 'fetch_weather_and_pollution'\n"
      ]
     },
     "metadata": {},
     "output_type": "display_data"
    },
    {
     "data": {
      "text/html": [
       "<pre style=\"white-space:pre;overflow-x:auto;line-height:normal;font-family:Menlo,'DejaVu Sans Mono',consolas,'Courier New',monospace\">21:03:12.712 | <span style=\"color: #008080; text-decoration-color: #008080\">INFO</span>    | Task run 'fetch_weather_and_pollution-11' - Created task run 'fetch_weather_and_pollution-11' for task 'fetch_weather_and_pollution'\n",
       "</pre>\n"
      ],
      "text/plain": [
       "21:03:12.712 | \u001b[36mINFO\u001b[0m    | Task run 'fetch_weather_and_pollution-11' - Created task run 'fetch_weather_and_pollution-11' for task 'fetch_weather_and_pollution'\n"
      ]
     },
     "metadata": {},
     "output_type": "display_data"
    },
    {
     "data": {
      "text/html": [
       "<pre style=\"white-space:pre;overflow-x:auto;line-height:normal;font-family:Menlo,'DejaVu Sans Mono',consolas,'Courier New',monospace\">21:03:12.771 | <span style=\"color: #008080; text-decoration-color: #008080\">INFO</span>    | Task run 'fetch_weather_and_pollution-6' - Created task run 'fetch_weather_and_pollution-6' for task 'fetch_weather_and_pollution'\n",
       "</pre>\n"
      ],
      "text/plain": [
       "21:03:12.771 | \u001b[36mINFO\u001b[0m    | Task run 'fetch_weather_and_pollution-6' - Created task run 'fetch_weather_and_pollution-6' for task 'fetch_weather_and_pollution'\n"
      ]
     },
     "metadata": {},
     "output_type": "display_data"
    },
    {
     "data": {
      "text/html": [
       "<pre style=\"white-space:pre;overflow-x:auto;line-height:normal;font-family:Menlo,'DejaVu Sans Mono',consolas,'Courier New',monospace\">21:03:12.820 | <span style=\"color: #008080; text-decoration-color: #008080\">INFO</span>    | Task run 'fetch_weather_and_pollution-9' - Created task run 'fetch_weather_and_pollution-9' for task 'fetch_weather_and_pollution'\n",
       "</pre>\n"
      ],
      "text/plain": [
       "21:03:12.820 | \u001b[36mINFO\u001b[0m    | Task run 'fetch_weather_and_pollution-9' - Created task run 'fetch_weather_and_pollution-9' for task 'fetch_weather_and_pollution'\n"
      ]
     },
     "metadata": {},
     "output_type": "display_data"
    },
    {
     "data": {
      "text/html": [
       "<pre style=\"white-space:pre;overflow-x:auto;line-height:normal;font-family:Menlo,'DejaVu Sans Mono',consolas,'Courier New',monospace\">21:03:12.863 | <span style=\"color: #008080; text-decoration-color: #008080\">INFO</span>    | Task run 'fetch_weather_and_pollution-22' - Created task run 'fetch_weather_and_pollution-22' for task 'fetch_weather_and_pollution'\n",
       "</pre>\n"
      ],
      "text/plain": [
       "21:03:12.863 | \u001b[36mINFO\u001b[0m    | Task run 'fetch_weather_and_pollution-22' - Created task run 'fetch_weather_and_pollution-22' for task 'fetch_weather_and_pollution'\n"
      ]
     },
     "metadata": {},
     "output_type": "display_data"
    },
    {
     "data": {
      "text/html": [
       "<pre style=\"white-space:pre;overflow-x:auto;line-height:normal;font-family:Menlo,'DejaVu Sans Mono',consolas,'Courier New',monospace\">21:03:12.915 | <span style=\"color: #008080; text-decoration-color: #008080\">INFO</span>    | Task run 'fetch_weather_and_pollution-23' - Created task run 'fetch_weather_and_pollution-23' for task 'fetch_weather_and_pollution'\n",
       "</pre>\n"
      ],
      "text/plain": [
       "21:03:12.915 | \u001b[36mINFO\u001b[0m    | Task run 'fetch_weather_and_pollution-23' - Created task run 'fetch_weather_and_pollution-23' for task 'fetch_weather_and_pollution'\n"
      ]
     },
     "metadata": {},
     "output_type": "display_data"
    },
    {
     "data": {
      "text/html": [
       "<pre style=\"white-space:pre;overflow-x:auto;line-height:normal;font-family:Menlo,'DejaVu Sans Mono',consolas,'Courier New',monospace\">21:03:12.959 | <span style=\"color: #008080; text-decoration-color: #008080\">INFO</span>    | Task run 'fetch_weather_and_pollution-21' - Created task run 'fetch_weather_and_pollution-21' for task 'fetch_weather_and_pollution'\n",
       "</pre>\n"
      ],
      "text/plain": [
       "21:03:12.959 | \u001b[36mINFO\u001b[0m    | Task run 'fetch_weather_and_pollution-21' - Created task run 'fetch_weather_and_pollution-21' for task 'fetch_weather_and_pollution'\n"
      ]
     },
     "metadata": {},
     "output_type": "display_data"
    },
    {
     "data": {
      "text/html": [
       "<pre style=\"white-space:pre;overflow-x:auto;line-height:normal;font-family:Menlo,'DejaVu Sans Mono',consolas,'Courier New',monospace\">21:03:13.011 | <span style=\"color: #008080; text-decoration-color: #008080\">INFO</span>    | Task run 'fetch_weather_and_pollution-10' - Created task run 'fetch_weather_and_pollution-10' for task 'fetch_weather_and_pollution'\n",
       "</pre>\n"
      ],
      "text/plain": [
       "21:03:13.011 | \u001b[36mINFO\u001b[0m    | Task run 'fetch_weather_and_pollution-10' - Created task run 'fetch_weather_and_pollution-10' for task 'fetch_weather_and_pollution'\n"
      ]
     },
     "metadata": {},
     "output_type": "display_data"
    },
    {
     "data": {
      "text/html": [
       "<pre style=\"white-space:pre;overflow-x:auto;line-height:normal;font-family:Menlo,'DejaVu Sans Mono',consolas,'Courier New',monospace\">21:03:13.065 | <span style=\"color: #008080; text-decoration-color: #008080\">INFO</span>    | Task run 'fetch_weather_and_pollution-16' - Created task run 'fetch_weather_and_pollution-16' for task 'fetch_weather_and_pollution'\n",
       "</pre>\n"
      ],
      "text/plain": [
       "21:03:13.065 | \u001b[36mINFO\u001b[0m    | Task run 'fetch_weather_and_pollution-16' - Created task run 'fetch_weather_and_pollution-16' for task 'fetch_weather_and_pollution'\n"
      ]
     },
     "metadata": {},
     "output_type": "display_data"
    },
    {
     "data": {
      "text/html": [
       "<pre style=\"white-space:pre;overflow-x:auto;line-height:normal;font-family:Menlo,'DejaVu Sans Mono',consolas,'Courier New',monospace\">21:03:13.960 | <span style=\"color: #008080; text-decoration-color: #008080\">INFO</span>    | Task run 'fetch_weather_and_pollution-4' - Created task run 'fetch_weather_and_pollution-4' for task 'fetch_weather_and_pollution'\n",
       "</pre>\n"
      ],
      "text/plain": [
       "21:03:13.960 | \u001b[36mINFO\u001b[0m    | Task run 'fetch_weather_and_pollution-4' - Created task run 'fetch_weather_and_pollution-4' for task 'fetch_weather_and_pollution'\n"
      ]
     },
     "metadata": {},
     "output_type": "display_data"
    },
    {
     "data": {
      "text/html": [
       "<pre style=\"white-space:pre;overflow-x:auto;line-height:normal;font-family:Menlo,'DejaVu Sans Mono',consolas,'Courier New',monospace\">21:03:14.004 | <span style=\"color: #008080; text-decoration-color: #008080\">INFO</span>    | Task run 'fetch_weather_and_pollution-12' - Created task run 'fetch_weather_and_pollution-12' for task 'fetch_weather_and_pollution'\n",
       "</pre>\n"
      ],
      "text/plain": [
       "21:03:14.004 | \u001b[36mINFO\u001b[0m    | Task run 'fetch_weather_and_pollution-12' - Created task run 'fetch_weather_and_pollution-12' for task 'fetch_weather_and_pollution'\n"
      ]
     },
     "metadata": {},
     "output_type": "display_data"
    },
    {
     "data": {
      "text/html": [
       "<pre style=\"white-space:pre;overflow-x:auto;line-height:normal;font-family:Menlo,'DejaVu Sans Mono',consolas,'Courier New',monospace\">21:03:14.055 | <span style=\"color: #008080; text-decoration-color: #008080\">INFO</span>    | Task run 'fetch_weather_and_pollution-13' - Created task run 'fetch_weather_and_pollution-13' for task 'fetch_weather_and_pollution'\n",
       "</pre>\n"
      ],
      "text/plain": [
       "21:03:14.055 | \u001b[36mINFO\u001b[0m    | Task run 'fetch_weather_and_pollution-13' - Created task run 'fetch_weather_and_pollution-13' for task 'fetch_weather_and_pollution'\n"
      ]
     },
     "metadata": {},
     "output_type": "display_data"
    },
    {
     "data": {
      "text/html": [
       "<pre style=\"white-space:pre;overflow-x:auto;line-height:normal;font-family:Menlo,'DejaVu Sans Mono',consolas,'Courier New',monospace\">21:03:14.101 | <span style=\"color: #008080; text-decoration-color: #008080\">INFO</span>    | Task run 'fetch_weather_and_pollution-17' - Created task run 'fetch_weather_and_pollution-17' for task 'fetch_weather_and_pollution'\n",
       "</pre>\n"
      ],
      "text/plain": [
       "21:03:14.101 | \u001b[36mINFO\u001b[0m    | Task run 'fetch_weather_and_pollution-17' - Created task run 'fetch_weather_and_pollution-17' for task 'fetch_weather_and_pollution'\n"
      ]
     },
     "metadata": {},
     "output_type": "display_data"
    },
    {
     "data": {
      "text/html": [
       "<pre style=\"white-space:pre;overflow-x:auto;line-height:normal;font-family:Menlo,'DejaVu Sans Mono',consolas,'Courier New',monospace\">21:03:14.151 | <span style=\"color: #008080; text-decoration-color: #008080\">INFO</span>    | Task run 'fetch_weather_and_pollution-7' - Created task run 'fetch_weather_and_pollution-7' for task 'fetch_weather_and_pollution'\n",
       "</pre>\n"
      ],
      "text/plain": [
       "21:03:14.151 | \u001b[36mINFO\u001b[0m    | Task run 'fetch_weather_and_pollution-7' - Created task run 'fetch_weather_and_pollution-7' for task 'fetch_weather_and_pollution'\n"
      ]
     },
     "metadata": {},
     "output_type": "display_data"
    },
    {
     "data": {
      "text/html": [
       "<pre style=\"white-space:pre;overflow-x:auto;line-height:normal;font-family:Menlo,'DejaVu Sans Mono',consolas,'Courier New',monospace\">21:03:14.200 | <span style=\"color: #008080; text-decoration-color: #008080\">INFO</span>    | Task run 'fetch_weather_and_pollution-14' - Created task run 'fetch_weather_and_pollution-14' for task 'fetch_weather_and_pollution'\n",
       "</pre>\n"
      ],
      "text/plain": [
       "21:03:14.200 | \u001b[36mINFO\u001b[0m    | Task run 'fetch_weather_and_pollution-14' - Created task run 'fetch_weather_and_pollution-14' for task 'fetch_weather_and_pollution'\n"
      ]
     },
     "metadata": {},
     "output_type": "display_data"
    },
    {
     "data": {
      "text/html": [
       "<pre style=\"white-space:pre;overflow-x:auto;line-height:normal;font-family:Menlo,'DejaVu Sans Mono',consolas,'Courier New',monospace\">21:03:14.257 | <span style=\"color: #008080; text-decoration-color: #008080\">INFO</span>    | Task run 'fetch_weather_and_pollution-8' - Created task run 'fetch_weather_and_pollution-8' for task 'fetch_weather_and_pollution'\n",
       "</pre>\n"
      ],
      "text/plain": [
       "21:03:14.257 | \u001b[36mINFO\u001b[0m    | Task run 'fetch_weather_and_pollution-8' - Created task run 'fetch_weather_and_pollution-8' for task 'fetch_weather_and_pollution'\n"
      ]
     },
     "metadata": {},
     "output_type": "display_data"
    },
    {
     "data": {
      "text/html": [
       "<pre style=\"white-space:pre;overflow-x:auto;line-height:normal;font-family:Menlo,'DejaVu Sans Mono',consolas,'Courier New',monospace\">21:03:14.395 | <span style=\"color: #008080; text-decoration-color: #008080\">INFO</span>    | Task run 'fetch_weather_and_pollution-1' - [<span style=\"color: #d70000; text-decoration-color: #d70000\">ERROR</span>] Missing weather data for Lam Thap: {'cod': 429, 'message': 'Your account is temporary blocked due to exceeding of requests limitation of your subscription type. Please choose the proper subscription <span style=\"color: #0000ff; text-decoration-color: #0000ff\">https://openweathermap.org/price</span>'}\n",
       "</pre>\n"
      ],
      "text/plain": [
       "21:03:14.395 | \u001b[36mINFO\u001b[0m    | Task run 'fetch_weather_and_pollution-1' - [\u001b[38;5;160mERROR\u001b[0m] Missing weather data for Lam Thap: {'cod': 429, 'message': 'Your account is temporary blocked due to exceeding of requests limitation of your subscription type. Please choose the proper subscription \u001b[94mhttps://openweathermap.org/price\u001b[0m'}\n"
      ]
     },
     "metadata": {},
     "output_type": "display_data"
    },
    {
     "data": {
      "text/html": [
       "<pre style=\"white-space:pre;overflow-x:auto;line-height:normal;font-family:Menlo,'DejaVu Sans Mono',consolas,'Courier New',monospace\">21:03:14.406 | <span style=\"color: #008080; text-decoration-color: #008080\">INFO</span>    | Task run 'fetch_weather_and_pollution-3' - [<span style=\"color: #d70000; text-decoration-color: #d70000\">ERROR</span>] Missing weather data for Khao Phanom: {'cod': 429, 'message': 'Your account is temporary blocked due to exceeding of requests limitation of your subscription type. Please choose the proper subscription <span style=\"color: #0000ff; text-decoration-color: #0000ff\">https://openweathermap.org/price</span>'}\n",
       "</pre>\n"
      ],
      "text/plain": [
       "21:03:14.406 | \u001b[36mINFO\u001b[0m    | Task run 'fetch_weather_and_pollution-3' - [\u001b[38;5;160mERROR\u001b[0m] Missing weather data for Khao Phanom: {'cod': 429, 'message': 'Your account is temporary blocked due to exceeding of requests limitation of your subscription type. Please choose the proper subscription \u001b[94mhttps://openweathermap.org/price\u001b[0m'}\n"
      ]
     },
     "metadata": {},
     "output_type": "display_data"
    },
    {
     "data": {
      "text/html": [
       "<pre style=\"white-space:pre;overflow-x:auto;line-height:normal;font-family:Menlo,'DejaVu Sans Mono',consolas,'Courier New',monospace\">21:03:14.420 | <span style=\"color: #008080; text-decoration-color: #008080\">INFO</span>    | Task run 'fetch_weather_and_pollution-5' - [<span style=\"color: #d70000; text-decoration-color: #d70000\">ERROR</span>] Missing weather data for Mueang Krabi: {'cod': 429, 'message': 'Your account is temporary blocked due to exceeding of requests limitation of your subscription type. Please choose the proper subscription <span style=\"color: #0000ff; text-decoration-color: #0000ff\">https://openweathermap.org/price</span>'}\n",
       "</pre>\n"
      ],
      "text/plain": [
       "21:03:14.420 | \u001b[36mINFO\u001b[0m    | Task run 'fetch_weather_and_pollution-5' - [\u001b[38;5;160mERROR\u001b[0m] Missing weather data for Mueang Krabi: {'cod': 429, 'message': 'Your account is temporary blocked due to exceeding of requests limitation of your subscription type. Please choose the proper subscription \u001b[94mhttps://openweathermap.org/price\u001b[0m'}\n"
      ]
     },
     "metadata": {},
     "output_type": "display_data"
    },
    {
     "data": {
      "text/html": [
       "<pre style=\"white-space:pre;overflow-x:auto;line-height:normal;font-family:Menlo,'DejaVu Sans Mono',consolas,'Courier New',monospace\">21:03:14.426 | <span style=\"color: #008080; text-decoration-color: #008080\">INFO</span>    | Task run 'fetch_weather_and_pollution-0' - [<span style=\"color: #d70000; text-decoration-color: #d70000\">ERROR</span>] Missing weather data for Nuea Khlong: {'cod': 429, 'message': 'Your account is temporary blocked due to exceeding of requests limitation of your subscription type. Please choose the proper subscription <span style=\"color: #0000ff; text-decoration-color: #0000ff\">https://openweathermap.org/price</span>'}\n",
       "</pre>\n"
      ],
      "text/plain": [
       "21:03:14.426 | \u001b[36mINFO\u001b[0m    | Task run 'fetch_weather_and_pollution-0' - [\u001b[38;5;160mERROR\u001b[0m] Missing weather data for Nuea Khlong: {'cod': 429, 'message': 'Your account is temporary blocked due to exceeding of requests limitation of your subscription type. Please choose the proper subscription \u001b[94mhttps://openweathermap.org/price\u001b[0m'}\n"
      ]
     },
     "metadata": {},
     "output_type": "display_data"
    },
    {
     "data": {
      "text/html": [
       "<pre style=\"white-space:pre;overflow-x:auto;line-height:normal;font-family:Menlo,'DejaVu Sans Mono',consolas,'Courier New',monospace\">21:03:15.456 | <span style=\"color: #008080; text-decoration-color: #008080\">INFO</span>    | Task run 'fetch_weather_and_pollution-15' - Created task run 'fetch_weather_and_pollution-15' for task 'fetch_weather_and_pollution'\n",
       "</pre>\n"
      ],
      "text/plain": [
       "21:03:15.456 | \u001b[36mINFO\u001b[0m    | Task run 'fetch_weather_and_pollution-15' - Created task run 'fetch_weather_and_pollution-15' for task 'fetch_weather_and_pollution'\n"
      ]
     },
     "metadata": {},
     "output_type": "display_data"
    },
    {
     "data": {
      "text/html": [
       "<pre style=\"white-space:pre;overflow-x:auto;line-height:normal;font-family:Menlo,'DejaVu Sans Mono',consolas,'Courier New',monospace\">21:03:15.503 | <span style=\"color: #008080; text-decoration-color: #008080\">INFO</span>    | Task run 'fetch_weather_and_pollution-18' - Created task run 'fetch_weather_and_pollution-18' for task 'fetch_weather_and_pollution'\n",
       "</pre>\n"
      ],
      "text/plain": [
       "21:03:15.503 | \u001b[36mINFO\u001b[0m    | Task run 'fetch_weather_and_pollution-18' - Created task run 'fetch_weather_and_pollution-18' for task 'fetch_weather_and_pollution'\n"
      ]
     },
     "metadata": {},
     "output_type": "display_data"
    },
    {
     "data": {
      "text/html": [
       "<pre style=\"white-space:pre;overflow-x:auto;line-height:normal;font-family:Menlo,'DejaVu Sans Mono',consolas,'Courier New',monospace\">21:03:15.559 | <span style=\"color: #008080; text-decoration-color: #008080\">INFO</span>    | Task run 'fetch_weather_and_pollution-20' - Created task run 'fetch_weather_and_pollution-20' for task 'fetch_weather_and_pollution'\n",
       "</pre>\n"
      ],
      "text/plain": [
       "21:03:15.559 | \u001b[36mINFO\u001b[0m    | Task run 'fetch_weather_and_pollution-20' - Created task run 'fetch_weather_and_pollution-20' for task 'fetch_weather_and_pollution'\n"
      ]
     },
     "metadata": {},
     "output_type": "display_data"
    },
    {
     "data": {
      "text/html": [
       "<pre style=\"white-space:pre;overflow-x:auto;line-height:normal;font-family:Menlo,'DejaVu Sans Mono',consolas,'Courier New',monospace\">21:03:15.664 | <span style=\"color: #008080; text-decoration-color: #008080\">INFO</span>    | Task run 'fetch_weather_and_pollution-19' - Created task run 'fetch_weather_and_pollution-19' for task 'fetch_weather_and_pollution'\n",
       "</pre>\n"
      ],
      "text/plain": [
       "21:03:15.664 | \u001b[36mINFO\u001b[0m    | Task run 'fetch_weather_and_pollution-19' - Created task run 'fetch_weather_and_pollution-19' for task 'fetch_weather_and_pollution'\n"
      ]
     },
     "metadata": {},
     "output_type": "display_data"
    },
    {
     "data": {
      "text/html": [
       "<pre style=\"white-space:pre;overflow-x:auto;line-height:normal;font-family:Menlo,'DejaVu Sans Mono',consolas,'Courier New',monospace\">21:03:15.822 | <span style=\"color: #008080; text-decoration-color: #008080\">INFO</span>    | Task run 'fetch_weather_and_pollution-2' - [<span style=\"color: #d70000; text-decoration-color: #d70000\">ERROR</span>] Missing weather data for Plai Phraya: {'cod': 429, 'message': 'Your account is temporary blocked due to exceeding of requests limitation of your subscription type. Please choose the proper subscription <span style=\"color: #0000ff; text-decoration-color: #0000ff\">https://openweathermap.org/price</span>'}\n",
       "</pre>\n"
      ],
      "text/plain": [
       "21:03:15.822 | \u001b[36mINFO\u001b[0m    | Task run 'fetch_weather_and_pollution-2' - [\u001b[38;5;160mERROR\u001b[0m] Missing weather data for Plai Phraya: {'cod': 429, 'message': 'Your account is temporary blocked due to exceeding of requests limitation of your subscription type. Please choose the proper subscription \u001b[94mhttps://openweathermap.org/price\u001b[0m'}\n"
      ]
     },
     "metadata": {},
     "output_type": "display_data"
    },
    {
     "data": {
      "text/html": [
       "<pre style=\"white-space:pre;overflow-x:auto;line-height:normal;font-family:Menlo,'DejaVu Sans Mono',consolas,'Courier New',monospace\">21:03:15.850 | <span style=\"color: #008080; text-decoration-color: #008080\">INFO</span>    | Task run 'fetch_weather_and_pollution-6' - [<span style=\"color: #d70000; text-decoration-color: #d70000\">ERROR</span>] Missing weather data for Khlong Thom: {'cod': 429, 'message': 'Your account is temporary blocked due to exceeding of requests limitation of your subscription type. Please choose the proper subscription <span style=\"color: #0000ff; text-decoration-color: #0000ff\">https://openweathermap.org/price</span>'}\n",
       "</pre>\n"
      ],
      "text/plain": [
       "21:03:15.850 | \u001b[36mINFO\u001b[0m    | Task run 'fetch_weather_and_pollution-6' - [\u001b[38;5;160mERROR\u001b[0m] Missing weather data for Khlong Thom: {'cod': 429, 'message': 'Your account is temporary blocked due to exceeding of requests limitation of your subscription type. Please choose the proper subscription \u001b[94mhttps://openweathermap.org/price\u001b[0m'}\n"
      ]
     },
     "metadata": {},
     "output_type": "display_data"
    },
    {
     "data": {
      "text/html": [
       "<pre style=\"white-space:pre;overflow-x:auto;line-height:normal;font-family:Menlo,'DejaVu Sans Mono',consolas,'Courier New',monospace\">21:03:15.861 | <span style=\"color: #008080; text-decoration-color: #008080\">INFO</span>    | Task run 'fetch_weather_and_pollution-10' - [<span style=\"color: #d70000; text-decoration-color: #d70000\">ERROR</span>] Missing weather data for Suan Luang: {'cod': 429, 'message': 'Your account is temporary blocked due to exceeding of requests limitation of your subscription type. Please choose the proper subscription <span style=\"color: #0000ff; text-decoration-color: #0000ff\">https://openweathermap.org/price</span>'}\n",
       "</pre>\n"
      ],
      "text/plain": [
       "21:03:15.861 | \u001b[36mINFO\u001b[0m    | Task run 'fetch_weather_and_pollution-10' - [\u001b[38;5;160mERROR\u001b[0m] Missing weather data for Suan Luang: {'cod': 429, 'message': 'Your account is temporary blocked due to exceeding of requests limitation of your subscription type. Please choose the proper subscription \u001b[94mhttps://openweathermap.org/price\u001b[0m'}\n"
      ]
     },
     "metadata": {},
     "output_type": "display_data"
    },
    {
     "data": {
      "text/html": [
       "<pre style=\"white-space:pre;overflow-x:auto;line-height:normal;font-family:Menlo,'DejaVu Sans Mono',consolas,'Courier New',monospace\">21:03:15.869 | <span style=\"color: #008080; text-decoration-color: #008080\">INFO</span>    | Task run 'fetch_weather_and_pollution-9' - [<span style=\"color: #d70000; text-decoration-color: #d70000\">ERROR</span>] Missing weather data for Chom Thong: {'cod': 429, 'message': 'Your account is temporary blocked due to exceeding of requests limitation of your subscription type. Please choose the proper subscription <span style=\"color: #0000ff; text-decoration-color: #0000ff\">https://openweathermap.org/price</span>'}\n",
       "</pre>\n"
      ],
      "text/plain": [
       "21:03:15.869 | \u001b[36mINFO\u001b[0m    | Task run 'fetch_weather_and_pollution-9' - [\u001b[38;5;160mERROR\u001b[0m] Missing weather data for Chom Thong: {'cod': 429, 'message': 'Your account is temporary blocked due to exceeding of requests limitation of your subscription type. Please choose the proper subscription \u001b[94mhttps://openweathermap.org/price\u001b[0m'}\n"
      ]
     },
     "metadata": {},
     "output_type": "display_data"
    },
    {
     "data": {
      "text/html": [
       "<pre style=\"white-space:pre;overflow-x:auto;line-height:normal;font-family:Menlo,'DejaVu Sans Mono',consolas,'Courier New',monospace\">21:03:15.886 | <span style=\"color: #008080; text-decoration-color: #008080\">INFO</span>    | Task run 'fetch_weather_and_pollution-3' - Finished in state <span style=\"color: #008000; text-decoration-color: #008000\">Completed</span>()\n",
       "</pre>\n"
      ],
      "text/plain": [
       "21:03:15.886 | \u001b[36mINFO\u001b[0m    | Task run 'fetch_weather_and_pollution-3' - Finished in state \u001b[32mCompleted\u001b[0m()\n"
      ]
     },
     "metadata": {},
     "output_type": "display_data"
    },
    {
     "data": {
      "text/html": [
       "<pre style=\"white-space:pre;overflow-x:auto;line-height:normal;font-family:Menlo,'DejaVu Sans Mono',consolas,'Courier New',monospace\">21:03:15.892 | <span style=\"color: #008080; text-decoration-color: #008080\">INFO</span>    | Task run 'fetch_weather_and_pollution-0' - Finished in state <span style=\"color: #008000; text-decoration-color: #008000\">Completed</span>()\n",
       "</pre>\n"
      ],
      "text/plain": [
       "21:03:15.892 | \u001b[36mINFO\u001b[0m    | Task run 'fetch_weather_and_pollution-0' - Finished in state \u001b[32mCompleted\u001b[0m()\n"
      ]
     },
     "metadata": {},
     "output_type": "display_data"
    },
    {
     "data": {
      "text/html": [
       "<pre style=\"white-space:pre;overflow-x:auto;line-height:normal;font-family:Menlo,'DejaVu Sans Mono',consolas,'Courier New',monospace\">21:03:15.911 | <span style=\"color: #008080; text-decoration-color: #008080\">INFO</span>    | Task run 'fetch_weather_and_pollution-1' - Finished in state <span style=\"color: #008000; text-decoration-color: #008000\">Completed</span>()\n",
       "</pre>\n"
      ],
      "text/plain": [
       "21:03:15.911 | \u001b[36mINFO\u001b[0m    | Task run 'fetch_weather_and_pollution-1' - Finished in state \u001b[32mCompleted\u001b[0m()\n"
      ]
     },
     "metadata": {},
     "output_type": "display_data"
    },
    {
     "data": {
      "text/html": [
       "<pre style=\"white-space:pre;overflow-x:auto;line-height:normal;font-family:Menlo,'DejaVu Sans Mono',consolas,'Courier New',monospace\">21:03:15.921 | <span style=\"color: #008080; text-decoration-color: #008080\">INFO</span>    | Task run 'fetch_weather_and_pollution-5' - Finished in state <span style=\"color: #008000; text-decoration-color: #008000\">Completed</span>()\n",
       "</pre>\n"
      ],
      "text/plain": [
       "21:03:15.921 | \u001b[36mINFO\u001b[0m    | Task run 'fetch_weather_and_pollution-5' - Finished in state \u001b[32mCompleted\u001b[0m()\n"
      ]
     },
     "metadata": {},
     "output_type": "display_data"
    },
    {
     "data": {
      "text/html": [
       "<pre style=\"white-space:pre;overflow-x:auto;line-height:normal;font-family:Menlo,'DejaVu Sans Mono',consolas,'Courier New',monospace\">21:03:16.357 | <span style=\"color: #008080; text-decoration-color: #008080\">INFO</span>    | Task run 'fetch_weather_and_pollution-16' - [<span style=\"color: #d70000; text-decoration-color: #d70000\">ERROR</span>] Missing weather data for Bueng Kum: {'cod': 429, 'message': 'Your account is temporary blocked due to exceeding of requests limitation of your subscription type. Please choose the proper subscription <span style=\"color: #0000ff; text-decoration-color: #0000ff\">https://openweathermap.org/price</span>'}\n",
       "</pre>\n"
      ],
      "text/plain": [
       "21:03:16.357 | \u001b[36mINFO\u001b[0m    | Task run 'fetch_weather_and_pollution-16' - [\u001b[38;5;160mERROR\u001b[0m] Missing weather data for Bueng Kum: {'cod': 429, 'message': 'Your account is temporary blocked due to exceeding of requests limitation of your subscription type. Please choose the proper subscription \u001b[94mhttps://openweathermap.org/price\u001b[0m'}\n"
      ]
     },
     "metadata": {},
     "output_type": "display_data"
    },
    {
     "data": {
      "text/html": [
       "<pre style=\"white-space:pre;overflow-x:auto;line-height:normal;font-family:Menlo,'DejaVu Sans Mono',consolas,'Courier New',monospace\">21:03:16.361 | <span style=\"color: #008080; text-decoration-color: #008080\">INFO</span>    | Task run 'fetch_weather_and_pollution-4' - [<span style=\"color: #d70000; text-decoration-color: #d70000\">ERROR</span>] Missing weather data for Ao Luek: {'cod': 429, 'message': 'Your account is temporary blocked due to exceeding of requests limitation of your subscription type. Please choose the proper subscription <span style=\"color: #0000ff; text-decoration-color: #0000ff\">https://openweathermap.org/price</span>'}\n",
       "</pre>\n"
      ],
      "text/plain": [
       "21:03:16.361 | \u001b[36mINFO\u001b[0m    | Task run 'fetch_weather_and_pollution-4' - [\u001b[38;5;160mERROR\u001b[0m] Missing weather data for Ao Luek: {'cod': 429, 'message': 'Your account is temporary blocked due to exceeding of requests limitation of your subscription type. Please choose the proper subscription \u001b[94mhttps://openweathermap.org/price\u001b[0m'}\n"
      ]
     },
     "metadata": {},
     "output_type": "display_data"
    },
    {
     "data": {
      "text/html": [
       "<pre style=\"white-space:pre;overflow-x:auto;line-height:normal;font-family:Menlo,'DejaVu Sans Mono',consolas,'Courier New',monospace\">21:03:16.367 | <span style=\"color: #008080; text-decoration-color: #008080\">INFO</span>    | Task run 'fetch_weather_and_pollution-11' - [<span style=\"color: #d70000; text-decoration-color: #d70000\">ERROR</span>] Missing weather data for Khlong Toei: {'cod': 429, 'message': 'Your account is temporary blocked due to exceeding of requests limitation of your subscription type. Please choose the proper subscription <span style=\"color: #0000ff; text-decoration-color: #0000ff\">https://openweathermap.org/price</span>'}\n",
       "</pre>\n"
      ],
      "text/plain": [
       "21:03:16.367 | \u001b[36mINFO\u001b[0m    | Task run 'fetch_weather_and_pollution-11' - [\u001b[38;5;160mERROR\u001b[0m] Missing weather data for Khlong Toei: {'cod': 429, 'message': 'Your account is temporary blocked due to exceeding of requests limitation of your subscription type. Please choose the proper subscription \u001b[94mhttps://openweathermap.org/price\u001b[0m'}\n"
      ]
     },
     "metadata": {},
     "output_type": "display_data"
    },
    {
     "data": {
      "text/html": [
       "<pre style=\"white-space:pre;overflow-x:auto;line-height:normal;font-family:Menlo,'DejaVu Sans Mono',consolas,'Courier New',monospace\">21:03:16.375 | <span style=\"color: #008080; text-decoration-color: #008080\">INFO</span>    | Task run 'fetch_weather_and_pollution-24' - [<span style=\"color: #d70000; text-decoration-color: #d70000\">ERROR</span>] Missing weather data for Khlong Sam Wa: {'cod': 429, 'message': 'Your account is temporary blocked due to exceeding of requests limitation of your subscription type. Please choose the proper subscription <span style=\"color: #0000ff; text-decoration-color: #0000ff\">https://openweathermap.org/price</span>'}\n",
       "</pre>\n"
      ],
      "text/plain": [
       "21:03:16.375 | \u001b[36mINFO\u001b[0m    | Task run 'fetch_weather_and_pollution-24' - [\u001b[38;5;160mERROR\u001b[0m] Missing weather data for Khlong Sam Wa: {'cod': 429, 'message': 'Your account is temporary blocked due to exceeding of requests limitation of your subscription type. Please choose the proper subscription \u001b[94mhttps://openweathermap.org/price\u001b[0m'}\n"
      ]
     },
     "metadata": {},
     "output_type": "display_data"
    },
    {
     "data": {
      "text/html": [
       "<pre style=\"white-space:pre;overflow-x:auto;line-height:normal;font-family:Menlo,'DejaVu Sans Mono',consolas,'Courier New',monospace\">21:03:16.381 | <span style=\"color: #008080; text-decoration-color: #008080\">INFO</span>    | Task run 'fetch_weather_and_pollution-23' - [<span style=\"color: #d70000; text-decoration-color: #d70000\">ERROR</span>] Missing weather data for Bang Na: {'cod': 429, 'message': 'Your account is temporary blocked due to exceeding of requests limitation of your subscription type. Please choose the proper subscription <span style=\"color: #0000ff; text-decoration-color: #0000ff\">https://openweathermap.org/price</span>'}\n",
       "</pre>\n"
      ],
      "text/plain": [
       "21:03:16.381 | \u001b[36mINFO\u001b[0m    | Task run 'fetch_weather_and_pollution-23' - [\u001b[38;5;160mERROR\u001b[0m] Missing weather data for Bang Na: {'cod': 429, 'message': 'Your account is temporary blocked due to exceeding of requests limitation of your subscription type. Please choose the proper subscription \u001b[94mhttps://openweathermap.org/price\u001b[0m'}\n"
      ]
     },
     "metadata": {},
     "output_type": "display_data"
    },
    {
     "data": {
      "text/html": [
       "<pre style=\"white-space:pre;overflow-x:auto;line-height:normal;font-family:Menlo,'DejaVu Sans Mono',consolas,'Courier New',monospace\">21:03:16.395 | <span style=\"color: #008080; text-decoration-color: #008080\">INFO</span>    | Task run 'fetch_weather_and_pollution-2' - Finished in state <span style=\"color: #008000; text-decoration-color: #008000\">Completed</span>()\n",
       "</pre>\n"
      ],
      "text/plain": [
       "21:03:16.395 | \u001b[36mINFO\u001b[0m    | Task run 'fetch_weather_and_pollution-2' - Finished in state \u001b[32mCompleted\u001b[0m()\n"
      ]
     },
     "metadata": {},
     "output_type": "display_data"
    },
    {
     "data": {
      "text/html": [
       "<pre style=\"white-space:pre;overflow-x:auto;line-height:normal;font-family:Menlo,'DejaVu Sans Mono',consolas,'Courier New',monospace\">21:03:17.155 | <span style=\"color: #008080; text-decoration-color: #008080\">INFO</span>    | Task run 'fetch_weather_and_pollution-7' - [<span style=\"color: #d70000; text-decoration-color: #d70000\">ERROR</span>] Missing weather data for Ko Lanta: {'cod': 429, 'message': 'Your account is temporary blocked due to exceeding of requests limitation of your subscription type. Please choose the proper subscription <span style=\"color: #0000ff; text-decoration-color: #0000ff\">https://openweathermap.org/price</span>'}\n",
       "</pre>\n"
      ],
      "text/plain": [
       "21:03:17.155 | \u001b[36mINFO\u001b[0m    | Task run 'fetch_weather_and_pollution-7' - [\u001b[38;5;160mERROR\u001b[0m] Missing weather data for Ko Lanta: {'cod': 429, 'message': 'Your account is temporary blocked due to exceeding of requests limitation of your subscription type. Please choose the proper subscription \u001b[94mhttps://openweathermap.org/price\u001b[0m'}\n"
      ]
     },
     "metadata": {},
     "output_type": "display_data"
    },
    {
     "data": {
      "text/html": [
       "<pre style=\"white-space:pre;overflow-x:auto;line-height:normal;font-family:Menlo,'DejaVu Sans Mono',consolas,'Courier New',monospace\">21:03:17.272 | <span style=\"color: #008080; text-decoration-color: #008080\">INFO</span>    | Task run 'fetch_weather_and_pollution-22' - [<span style=\"color: #d70000; text-decoration-color: #d70000\">ERROR</span>] Missing weather data for Thawi Watthana: {'cod': 429, 'message': 'Your account is temporary blocked due to exceeding of requests limitation of your subscription type. Please choose the proper subscription <span style=\"color: #0000ff; text-decoration-color: #0000ff\">https://openweathermap.org/price</span>'}\n",
       "</pre>\n"
      ],
      "text/plain": [
       "21:03:17.272 | \u001b[36mINFO\u001b[0m    | Task run 'fetch_weather_and_pollution-22' - [\u001b[38;5;160mERROR\u001b[0m] Missing weather data for Thawi Watthana: {'cod': 429, 'message': 'Your account is temporary blocked due to exceeding of requests limitation of your subscription type. Please choose the proper subscription \u001b[94mhttps://openweathermap.org/price\u001b[0m'}\n"
      ]
     },
     "metadata": {},
     "output_type": "display_data"
    },
    {
     "data": {
      "text/html": [
       "<pre style=\"white-space:pre;overflow-x:auto;line-height:normal;font-family:Menlo,'DejaVu Sans Mono',consolas,'Courier New',monospace\">21:03:17.279 | <span style=\"color: #008080; text-decoration-color: #008080\">INFO</span>    | Task run 'fetch_weather_and_pollution-8' - [<span style=\"color: #d70000; text-decoration-color: #d70000\">ERROR</span>] Missing weather data for Lat Phrao: {'cod': 429, 'message': 'Your account is temporary blocked due to exceeding of requests limitation of your subscription type. Please choose the proper subscription <span style=\"color: #0000ff; text-decoration-color: #0000ff\">https://openweathermap.org/price</span>'}\n",
       "</pre>\n"
      ],
      "text/plain": [
       "21:03:17.279 | \u001b[36mINFO\u001b[0m    | Task run 'fetch_weather_and_pollution-8' - [\u001b[38;5;160mERROR\u001b[0m] Missing weather data for Lat Phrao: {'cod': 429, 'message': 'Your account is temporary blocked due to exceeding of requests limitation of your subscription type. Please choose the proper subscription \u001b[94mhttps://openweathermap.org/price\u001b[0m'}\n"
      ]
     },
     "metadata": {},
     "output_type": "display_data"
    },
    {
     "data": {
      "text/html": [
       "<pre style=\"white-space:pre;overflow-x:auto;line-height:normal;font-family:Menlo,'DejaVu Sans Mono',consolas,'Courier New',monospace\">21:03:17.285 | <span style=\"color: #008080; text-decoration-color: #008080\">INFO</span>    | Task run 'fetch_weather_and_pollution-17' - [<span style=\"color: #d70000; text-decoration-color: #d70000\">ERROR</span>] Missing weather data for Bang Khae: {'cod': 429, 'message': 'Your account is temporary blocked due to exceeding of requests limitation of your subscription type. Please choose the proper subscription <span style=\"color: #0000ff; text-decoration-color: #0000ff\">https://openweathermap.org/price</span>'}\n",
       "</pre>\n"
      ],
      "text/plain": [
       "21:03:17.285 | \u001b[36mINFO\u001b[0m    | Task run 'fetch_weather_and_pollution-17' - [\u001b[38;5;160mERROR\u001b[0m] Missing weather data for Bang Khae: {'cod': 429, 'message': 'Your account is temporary blocked due to exceeding of requests limitation of your subscription type. Please choose the proper subscription \u001b[94mhttps://openweathermap.org/price\u001b[0m'}\n"
      ]
     },
     "metadata": {},
     "output_type": "display_data"
    },
    {
     "data": {
      "text/html": [
       "<pre style=\"white-space:pre;overflow-x:auto;line-height:normal;font-family:Menlo,'DejaVu Sans Mono',consolas,'Courier New',monospace\">21:03:17.292 | <span style=\"color: #008080; text-decoration-color: #008080\">INFO</span>    | Task run 'fetch_weather_and_pollution-14' - [<span style=\"color: #d70000; text-decoration-color: #d70000\">ERROR</span>] Missing weather data for Bang Sue: {'cod': 429, 'message': 'Your account is temporary blocked due to exceeding of requests limitation of your subscription type. Please choose the proper subscription <span style=\"color: #0000ff; text-decoration-color: #0000ff\">https://openweathermap.org/price</span>'}\n",
       "</pre>\n"
      ],
      "text/plain": [
       "21:03:17.292 | \u001b[36mINFO\u001b[0m    | Task run 'fetch_weather_and_pollution-14' - [\u001b[38;5;160mERROR\u001b[0m] Missing weather data for Bang Sue: {'cod': 429, 'message': 'Your account is temporary blocked due to exceeding of requests limitation of your subscription type. Please choose the proper subscription \u001b[94mhttps://openweathermap.org/price\u001b[0m'}\n"
      ]
     },
     "metadata": {},
     "output_type": "display_data"
    },
    {
     "data": {
      "text/html": [
       "<pre style=\"white-space:pre;overflow-x:auto;line-height:normal;font-family:Menlo,'DejaVu Sans Mono',consolas,'Courier New',monospace\">21:03:17.298 | <span style=\"color: #008080; text-decoration-color: #008080\">INFO</span>    | Task run 'fetch_weather_and_pollution-13' - [<span style=\"color: #d70000; text-decoration-color: #d70000\">ERROR</span>] Missing weather data for Chatuchak: {'cod': 429, 'message': 'Your account is temporary blocked due to exceeding of requests limitation of your subscription type. Please choose the proper subscription <span style=\"color: #0000ff; text-decoration-color: #0000ff\">https://openweathermap.org/price</span>'}\n",
       "</pre>\n"
      ],
      "text/plain": [
       "21:03:17.298 | \u001b[36mINFO\u001b[0m    | Task run 'fetch_weather_and_pollution-13' - [\u001b[38;5;160mERROR\u001b[0m] Missing weather data for Chatuchak: {'cod': 429, 'message': 'Your account is temporary blocked due to exceeding of requests limitation of your subscription type. Please choose the proper subscription \u001b[94mhttps://openweathermap.org/price\u001b[0m'}\n"
      ]
     },
     "metadata": {},
     "output_type": "display_data"
    },
    {
     "data": {
      "text/html": [
       "<pre style=\"white-space:pre;overflow-x:auto;line-height:normal;font-family:Menlo,'DejaVu Sans Mono',consolas,'Courier New',monospace\">21:03:17.309 | <span style=\"color: #008080; text-decoration-color: #008080\">INFO</span>    | Task run 'fetch_weather_and_pollution-6' - Finished in state <span style=\"color: #008000; text-decoration-color: #008000\">Completed</span>()\n",
       "</pre>\n"
      ],
      "text/plain": [
       "21:03:17.309 | \u001b[36mINFO\u001b[0m    | Task run 'fetch_weather_and_pollution-6' - Finished in state \u001b[32mCompleted\u001b[0m()\n"
      ]
     },
     "metadata": {},
     "output_type": "display_data"
    },
    {
     "data": {
      "text/html": [
       "<pre style=\"white-space:pre;overflow-x:auto;line-height:normal;font-family:Menlo,'DejaVu Sans Mono',consolas,'Courier New',monospace\">21:03:17.320 | <span style=\"color: #008080; text-decoration-color: #008080\">INFO</span>    | Task run 'fetch_weather_and_pollution-10' - Finished in state <span style=\"color: #008000; text-decoration-color: #008000\">Completed</span>()\n",
       "</pre>\n"
      ],
      "text/plain": [
       "21:03:17.320 | \u001b[36mINFO\u001b[0m    | Task run 'fetch_weather_and_pollution-10' - Finished in state \u001b[32mCompleted\u001b[0m()\n"
      ]
     },
     "metadata": {},
     "output_type": "display_data"
    },
    {
     "data": {
      "text/html": [
       "<pre style=\"white-space:pre;overflow-x:auto;line-height:normal;font-family:Menlo,'DejaVu Sans Mono',consolas,'Courier New',monospace\">21:03:17.326 | <span style=\"color: #008080; text-decoration-color: #008080\">INFO</span>    | Task run 'fetch_weather_and_pollution-9' - Finished in state <span style=\"color: #008000; text-decoration-color: #008000\">Completed</span>()\n",
       "</pre>\n"
      ],
      "text/plain": [
       "21:03:17.326 | \u001b[36mINFO\u001b[0m    | Task run 'fetch_weather_and_pollution-9' - Finished in state \u001b[32mCompleted\u001b[0m()\n"
      ]
     },
     "metadata": {},
     "output_type": "display_data"
    },
    {
     "data": {
      "text/html": [
       "<pre style=\"white-space:pre;overflow-x:auto;line-height:normal;font-family:Menlo,'DejaVu Sans Mono',consolas,'Courier New',monospace\">21:03:17.348 | <span style=\"color: #008080; text-decoration-color: #008080\">INFO</span>    | Task run 'fetch_weather_and_pollution-21' - [<span style=\"color: #d70000; text-decoration-color: #d70000\">ERROR</span>] Missing weather data for Din Daeng: {'cod': 429, 'message': 'Your account is temporary blocked due to exceeding of requests limitation of your subscription type. Please choose the proper subscription <span style=\"color: #0000ff; text-decoration-color: #0000ff\">https://openweathermap.org/price</span>'}\n",
       "</pre>\n"
      ],
      "text/plain": [
       "21:03:17.348 | \u001b[36mINFO\u001b[0m    | Task run 'fetch_weather_and_pollution-21' - [\u001b[38;5;160mERROR\u001b[0m] Missing weather data for Din Daeng: {'cod': 429, 'message': 'Your account is temporary blocked due to exceeding of requests limitation of your subscription type. Please choose the proper subscription \u001b[94mhttps://openweathermap.org/price\u001b[0m'}\n"
      ]
     },
     "metadata": {},
     "output_type": "display_data"
    },
    {
     "data": {
      "text/html": [
       "<pre style=\"white-space:pre;overflow-x:auto;line-height:normal;font-family:Menlo,'DejaVu Sans Mono',consolas,'Courier New',monospace\">21:03:17.359 | <span style=\"color: #008080; text-decoration-color: #008080\">INFO</span>    | Task run 'fetch_weather_and_pollution-12' - [<span style=\"color: #d70000; text-decoration-color: #d70000\">ERROR</span>] Missing weather data for Bang Kho Laem: {'cod': 429, 'message': 'Your account is temporary blocked due to exceeding of requests limitation of your subscription type. Please choose the proper subscription <span style=\"color: #0000ff; text-decoration-color: #0000ff\">https://openweathermap.org/price</span>'}\n",
       "</pre>\n"
      ],
      "text/plain": [
       "21:03:17.359 | \u001b[36mINFO\u001b[0m    | Task run 'fetch_weather_and_pollution-12' - [\u001b[38;5;160mERROR\u001b[0m] Missing weather data for Bang Kho Laem: {'cod': 429, 'message': 'Your account is temporary blocked due to exceeding of requests limitation of your subscription type. Please choose the proper subscription \u001b[94mhttps://openweathermap.org/price\u001b[0m'}\n"
      ]
     },
     "metadata": {},
     "output_type": "display_data"
    },
    {
     "data": {
      "text/html": [
       "<pre style=\"white-space:pre;overflow-x:auto;line-height:normal;font-family:Menlo,'DejaVu Sans Mono',consolas,'Courier New',monospace\">21:03:17.587 | <span style=\"color: #008080; text-decoration-color: #008080\">INFO</span>    | Task run 'fetch_weather_and_pollution-16' - Finished in state <span style=\"color: #008000; text-decoration-color: #008000\">Completed</span>()\n",
       "</pre>\n"
      ],
      "text/plain": [
       "21:03:17.587 | \u001b[36mINFO\u001b[0m    | Task run 'fetch_weather_and_pollution-16' - Finished in state \u001b[32mCompleted\u001b[0m()\n"
      ]
     },
     "metadata": {},
     "output_type": "display_data"
    },
    {
     "data": {
      "text/html": [
       "<pre style=\"white-space:pre;overflow-x:auto;line-height:normal;font-family:Menlo,'DejaVu Sans Mono',consolas,'Courier New',monospace\">21:03:18.182 | <span style=\"color: #008080; text-decoration-color: #008080\">INFO</span>    | Task run 'fetch_weather_and_pollution-11' - Finished in state <span style=\"color: #008000; text-decoration-color: #008000\">Completed</span>()\n",
       "</pre>\n"
      ],
      "text/plain": [
       "21:03:18.182 | \u001b[36mINFO\u001b[0m    | Task run 'fetch_weather_and_pollution-11' - Finished in state \u001b[32mCompleted\u001b[0m()\n"
      ]
     },
     "metadata": {},
     "output_type": "display_data"
    },
    {
     "data": {
      "text/html": [
       "<pre style=\"white-space:pre;overflow-x:auto;line-height:normal;font-family:Menlo,'DejaVu Sans Mono',consolas,'Courier New',monospace\">21:03:18.188 | <span style=\"color: #008080; text-decoration-color: #008080\">INFO</span>    | Task run 'fetch_weather_and_pollution-8' - Finished in state <span style=\"color: #008000; text-decoration-color: #008000\">Completed</span>()\n",
       "</pre>\n"
      ],
      "text/plain": [
       "21:03:18.188 | \u001b[36mINFO\u001b[0m    | Task run 'fetch_weather_and_pollution-8' - Finished in state \u001b[32mCompleted\u001b[0m()\n"
      ]
     },
     "metadata": {},
     "output_type": "display_data"
    },
    {
     "data": {
      "text/html": [
       "<pre style=\"white-space:pre;overflow-x:auto;line-height:normal;font-family:Menlo,'DejaVu Sans Mono',consolas,'Courier New',monospace\">21:03:18.192 | <span style=\"color: #008080; text-decoration-color: #008080\">INFO</span>    | Task run 'fetch_weather_and_pollution-22' - Finished in state <span style=\"color: #008000; text-decoration-color: #008000\">Completed</span>()\n",
       "</pre>\n"
      ],
      "text/plain": [
       "21:03:18.192 | \u001b[36mINFO\u001b[0m    | Task run 'fetch_weather_and_pollution-22' - Finished in state \u001b[32mCompleted\u001b[0m()\n"
      ]
     },
     "metadata": {},
     "output_type": "display_data"
    },
    {
     "data": {
      "text/html": [
       "<pre style=\"white-space:pre;overflow-x:auto;line-height:normal;font-family:Menlo,'DejaVu Sans Mono',consolas,'Courier New',monospace\">21:03:18.199 | <span style=\"color: #008080; text-decoration-color: #008080\">INFO</span>    | Task run 'fetch_weather_and_pollution-19' - [<span style=\"color: #d70000; text-decoration-color: #d70000\">ERROR</span>] Missing weather data for Thung Khru: {'cod': 429, 'message': 'Your account is temporary blocked due to exceeding of requests limitation of your subscription type. Please choose the proper subscription <span style=\"color: #0000ff; text-decoration-color: #0000ff\">https://openweathermap.org/price</span>'}\n",
       "</pre>\n"
      ],
      "text/plain": [
       "21:03:18.199 | \u001b[36mINFO\u001b[0m    | Task run 'fetch_weather_and_pollution-19' - [\u001b[38;5;160mERROR\u001b[0m] Missing weather data for Thung Khru: {'cod': 429, 'message': 'Your account is temporary blocked due to exceeding of requests limitation of your subscription type. Please choose the proper subscription \u001b[94mhttps://openweathermap.org/price\u001b[0m'}\n"
      ]
     },
     "metadata": {},
     "output_type": "display_data"
    },
    {
     "data": {
      "text/html": [
       "<pre style=\"white-space:pre;overflow-x:auto;line-height:normal;font-family:Menlo,'DejaVu Sans Mono',consolas,'Courier New',monospace\">21:03:18.207 | <span style=\"color: #008080; text-decoration-color: #008080\">INFO</span>    | Task run 'fetch_weather_and_pollution-18' - [<span style=\"color: #d70000; text-decoration-color: #d70000\">ERROR</span>] Missing weather data for Don Mueang: {'cod': 429, 'message': 'Your account is temporary blocked due to exceeding of requests limitation of your subscription type. Please choose the proper subscription <span style=\"color: #0000ff; text-decoration-color: #0000ff\">https://openweathermap.org/price</span>'}\n",
       "</pre>\n"
      ],
      "text/plain": [
       "21:03:18.207 | \u001b[36mINFO\u001b[0m    | Task run 'fetch_weather_and_pollution-18' - [\u001b[38;5;160mERROR\u001b[0m] Missing weather data for Don Mueang: {'cod': 429, 'message': 'Your account is temporary blocked due to exceeding of requests limitation of your subscription type. Please choose the proper subscription \u001b[94mhttps://openweathermap.org/price\u001b[0m'}\n"
      ]
     },
     "metadata": {},
     "output_type": "display_data"
    },
    {
     "data": {
      "text/html": [
       "<pre style=\"white-space:pre;overflow-x:auto;line-height:normal;font-family:Menlo,'DejaVu Sans Mono',consolas,'Courier New',monospace\">21:03:18.212 | <span style=\"color: #008080; text-decoration-color: #008080\">INFO</span>    | Task run 'fetch_weather_and_pollution-20' - [<span style=\"color: #d70000; text-decoration-color: #d70000\">ERROR</span>] Missing weather data for Bang Bon: {'cod': 429, 'message': 'Your account is temporary blocked due to exceeding of requests limitation of your subscription type. Please choose the proper subscription <span style=\"color: #0000ff; text-decoration-color: #0000ff\">https://openweathermap.org/price</span>'}\n",
       "</pre>\n"
      ],
      "text/plain": [
       "21:03:18.212 | \u001b[36mINFO\u001b[0m    | Task run 'fetch_weather_and_pollution-20' - [\u001b[38;5;160mERROR\u001b[0m] Missing weather data for Bang Bon: {'cod': 429, 'message': 'Your account is temporary blocked due to exceeding of requests limitation of your subscription type. Please choose the proper subscription \u001b[94mhttps://openweathermap.org/price\u001b[0m'}\n"
      ]
     },
     "metadata": {},
     "output_type": "display_data"
    },
    {
     "data": {
      "text/html": [
       "<pre style=\"white-space:pre;overflow-x:auto;line-height:normal;font-family:Menlo,'DejaVu Sans Mono',consolas,'Courier New',monospace\">21:03:18.228 | <span style=\"color: #008080; text-decoration-color: #008080\">INFO</span>    | Task run 'fetch_weather_and_pollution-14' - Finished in state <span style=\"color: #008000; text-decoration-color: #008000\">Completed</span>()\n",
       "</pre>\n"
      ],
      "text/plain": [
       "21:03:18.228 | \u001b[36mINFO\u001b[0m    | Task run 'fetch_weather_and_pollution-14' - Finished in state \u001b[32mCompleted\u001b[0m()\n"
      ]
     },
     "metadata": {},
     "output_type": "display_data"
    },
    {
     "data": {
      "text/html": [
       "<pre style=\"white-space:pre;overflow-x:auto;line-height:normal;font-family:Menlo,'DejaVu Sans Mono',consolas,'Courier New',monospace\">21:03:18.239 | <span style=\"color: #008080; text-decoration-color: #008080\">INFO</span>    | Task run 'fetch_weather_and_pollution-21' - Finished in state <span style=\"color: #008000; text-decoration-color: #008000\">Completed</span>()\n",
       "</pre>\n"
      ],
      "text/plain": [
       "21:03:18.239 | \u001b[36mINFO\u001b[0m    | Task run 'fetch_weather_and_pollution-21' - Finished in state \u001b[32mCompleted\u001b[0m()\n"
      ]
     },
     "metadata": {},
     "output_type": "display_data"
    },
    {
     "data": {
      "text/html": [
       "<pre style=\"white-space:pre;overflow-x:auto;line-height:normal;font-family:Menlo,'DejaVu Sans Mono',consolas,'Courier New',monospace\">21:03:18.251 | <span style=\"color: #008080; text-decoration-color: #008080\">INFO</span>    | Task run 'fetch_weather_and_pollution-23' - Finished in state <span style=\"color: #008000; text-decoration-color: #008000\">Completed</span>()\n",
       "</pre>\n"
      ],
      "text/plain": [
       "21:03:18.251 | \u001b[36mINFO\u001b[0m    | Task run 'fetch_weather_and_pollution-23' - Finished in state \u001b[32mCompleted\u001b[0m()\n"
      ]
     },
     "metadata": {},
     "output_type": "display_data"
    },
    {
     "data": {
      "text/html": [
       "<pre style=\"white-space:pre;overflow-x:auto;line-height:normal;font-family:Menlo,'DejaVu Sans Mono',consolas,'Courier New',monospace\">21:03:18.256 | <span style=\"color: #008080; text-decoration-color: #008080\">INFO</span>    | Task run 'fetch_weather_and_pollution-7' - Finished in state <span style=\"color: #008000; text-decoration-color: #008000\">Completed</span>()\n",
       "</pre>\n"
      ],
      "text/plain": [
       "21:03:18.256 | \u001b[36mINFO\u001b[0m    | Task run 'fetch_weather_and_pollution-7' - Finished in state \u001b[32mCompleted\u001b[0m()\n"
      ]
     },
     "metadata": {},
     "output_type": "display_data"
    },
    {
     "data": {
      "text/html": [
       "<pre style=\"white-space:pre;overflow-x:auto;line-height:normal;font-family:Menlo,'DejaVu Sans Mono',consolas,'Courier New',monospace\">21:03:18.263 | <span style=\"color: #008080; text-decoration-color: #008080\">INFO</span>    | Task run 'fetch_weather_and_pollution-24' - Finished in state <span style=\"color: #008000; text-decoration-color: #008000\">Completed</span>()\n",
       "</pre>\n"
      ],
      "text/plain": [
       "21:03:18.263 | \u001b[36mINFO\u001b[0m    | Task run 'fetch_weather_and_pollution-24' - Finished in state \u001b[32mCompleted\u001b[0m()\n"
      ]
     },
     "metadata": {},
     "output_type": "display_data"
    },
    {
     "data": {
      "text/html": [
       "<pre style=\"white-space:pre;overflow-x:auto;line-height:normal;font-family:Menlo,'DejaVu Sans Mono',consolas,'Courier New',monospace\">21:03:18.268 | <span style=\"color: #008080; text-decoration-color: #008080\">INFO</span>    | Task run 'fetch_weather_and_pollution-12' - Finished in state <span style=\"color: #008000; text-decoration-color: #008000\">Completed</span>()\n",
       "</pre>\n"
      ],
      "text/plain": [
       "21:03:18.268 | \u001b[36mINFO\u001b[0m    | Task run 'fetch_weather_and_pollution-12' - Finished in state \u001b[32mCompleted\u001b[0m()\n"
      ]
     },
     "metadata": {},
     "output_type": "display_data"
    },
    {
     "data": {
      "text/html": [
       "<pre style=\"white-space:pre;overflow-x:auto;line-height:normal;font-family:Menlo,'DejaVu Sans Mono',consolas,'Courier New',monospace\">21:03:18.274 | <span style=\"color: #008080; text-decoration-color: #008080\">INFO</span>    | Task run 'fetch_weather_and_pollution-15' - [<span style=\"color: #d70000; text-decoration-color: #d70000\">ERROR</span>] Missing weather data for Sathon: {'cod': 429, 'message': 'Your account is temporary blocked due to exceeding of requests limitation of your subscription type. Please choose the proper subscription <span style=\"color: #0000ff; text-decoration-color: #0000ff\">https://openweathermap.org/price</span>'}\n",
       "</pre>\n"
      ],
      "text/plain": [
       "21:03:18.274 | \u001b[36mINFO\u001b[0m    | Task run 'fetch_weather_and_pollution-15' - [\u001b[38;5;160mERROR\u001b[0m] Missing weather data for Sathon: {'cod': 429, 'message': 'Your account is temporary blocked due to exceeding of requests limitation of your subscription type. Please choose the proper subscription \u001b[94mhttps://openweathermap.org/price\u001b[0m'}\n"
      ]
     },
     "metadata": {},
     "output_type": "display_data"
    },
    {
     "data": {
      "text/html": [
       "<pre style=\"white-space:pre;overflow-x:auto;line-height:normal;font-family:Menlo,'DejaVu Sans Mono',consolas,'Courier New',monospace\">21:03:18.284 | <span style=\"color: #008080; text-decoration-color: #008080\">INFO</span>    | Task run 'fetch_weather_and_pollution-4' - Finished in state <span style=\"color: #008000; text-decoration-color: #008000\">Completed</span>()\n",
       "</pre>\n"
      ],
      "text/plain": [
       "21:03:18.284 | \u001b[36mINFO\u001b[0m    | Task run 'fetch_weather_and_pollution-4' - Finished in state \u001b[32mCompleted\u001b[0m()\n"
      ]
     },
     "metadata": {},
     "output_type": "display_data"
    },
    {
     "data": {
      "text/html": [
       "<pre style=\"white-space:pre;overflow-x:auto;line-height:normal;font-family:Menlo,'DejaVu Sans Mono',consolas,'Courier New',monospace\">21:03:18.408 | <span style=\"color: #008080; text-decoration-color: #008080\">INFO</span>    | Task run 'fetch_weather_and_pollution-13' - Finished in state <span style=\"color: #008000; text-decoration-color: #008000\">Completed</span>()\n",
       "</pre>\n"
      ],
      "text/plain": [
       "21:03:18.408 | \u001b[36mINFO\u001b[0m    | Task run 'fetch_weather_and_pollution-13' - Finished in state \u001b[32mCompleted\u001b[0m()\n"
      ]
     },
     "metadata": {},
     "output_type": "display_data"
    },
    {
     "data": {
      "text/html": [
       "<pre style=\"white-space:pre;overflow-x:auto;line-height:normal;font-family:Menlo,'DejaVu Sans Mono',consolas,'Courier New',monospace\">21:03:18.441 | <span style=\"color: #008080; text-decoration-color: #008080\">INFO</span>    | Task run 'fetch_weather_and_pollution-19' - Finished in state <span style=\"color: #008000; text-decoration-color: #008000\">Completed</span>()\n",
       "</pre>\n"
      ],
      "text/plain": [
       "21:03:18.441 | \u001b[36mINFO\u001b[0m    | Task run 'fetch_weather_and_pollution-19' - Finished in state \u001b[32mCompleted\u001b[0m()\n"
      ]
     },
     "metadata": {},
     "output_type": "display_data"
    },
    {
     "data": {
      "text/html": [
       "<pre style=\"white-space:pre;overflow-x:auto;line-height:normal;font-family:Menlo,'DejaVu Sans Mono',consolas,'Courier New',monospace\">21:03:18.508 | <span style=\"color: #008080; text-decoration-color: #008080\">INFO</span>    | Task run 'fetch_weather_and_pollution-18' - Finished in state <span style=\"color: #008000; text-decoration-color: #008000\">Completed</span>()\n",
       "</pre>\n"
      ],
      "text/plain": [
       "21:03:18.508 | \u001b[36mINFO\u001b[0m    | Task run 'fetch_weather_and_pollution-18' - Finished in state \u001b[32mCompleted\u001b[0m()\n"
      ]
     },
     "metadata": {},
     "output_type": "display_data"
    },
    {
     "data": {
      "text/html": [
       "<pre style=\"white-space:pre;overflow-x:auto;line-height:normal;font-family:Menlo,'DejaVu Sans Mono',consolas,'Courier New',monospace\">21:03:18.545 | <span style=\"color: #008080; text-decoration-color: #008080\">INFO</span>    | Task run 'fetch_weather_and_pollution-15' - Finished in state <span style=\"color: #008000; text-decoration-color: #008000\">Completed</span>()\n",
       "</pre>\n"
      ],
      "text/plain": [
       "21:03:18.545 | \u001b[36mINFO\u001b[0m    | Task run 'fetch_weather_and_pollution-15' - Finished in state \u001b[32mCompleted\u001b[0m()\n"
      ]
     },
     "metadata": {},
     "output_type": "display_data"
    },
    {
     "data": {
      "text/html": [
       "<pre style=\"white-space:pre;overflow-x:auto;line-height:normal;font-family:Menlo,'DejaVu Sans Mono',consolas,'Courier New',monospace\">21:03:18.574 | <span style=\"color: #008080; text-decoration-color: #008080\">INFO</span>    | Task run 'fetch_weather_and_pollution-20' - Finished in state <span style=\"color: #008000; text-decoration-color: #008000\">Completed</span>()\n",
       "</pre>\n"
      ],
      "text/plain": [
       "21:03:18.574 | \u001b[36mINFO\u001b[0m    | Task run 'fetch_weather_and_pollution-20' - Finished in state \u001b[32mCompleted\u001b[0m()\n"
      ]
     },
     "metadata": {},
     "output_type": "display_data"
    },
    {
     "data": {
      "text/html": [
       "<pre style=\"white-space:pre;overflow-x:auto;line-height:normal;font-family:Menlo,'DejaVu Sans Mono',consolas,'Courier New',monospace\">21:03:18.668 | <span style=\"color: #008080; text-decoration-color: #008080\">INFO</span>    | Task run 'fetch_weather_and_pollution-17' - Finished in state <span style=\"color: #008000; text-decoration-color: #008000\">Completed</span>()\n",
       "</pre>\n"
      ],
      "text/plain": [
       "21:03:18.668 | \u001b[36mINFO\u001b[0m    | Task run 'fetch_weather_and_pollution-17' - Finished in state \u001b[32mCompleted\u001b[0m()\n"
      ]
     },
     "metadata": {},
     "output_type": "display_data"
    },
    {
     "data": {
      "text/html": [
       "<pre style=\"white-space:pre;overflow-x:auto;line-height:normal;font-family:Menlo,'DejaVu Sans Mono',consolas,'Courier New',monospace\">21:03:18.672 | <span style=\"color: #008080; text-decoration-color: #008080\">INFO</span>    | Flow run<span style=\"color: #800080; text-decoration-color: #800080\"> 'weather-run'</span> - Waiting 70 seconds before next batch...\n",
       "</pre>\n"
      ],
      "text/plain": [
       "21:03:18.672 | \u001b[36mINFO\u001b[0m    | Flow run\u001b[35m 'weather-run'\u001b[0m - Waiting 70 seconds before next batch...\n"
      ]
     },
     "metadata": {},
     "output_type": "display_data"
    }
   ],
   "source": [
    "@flow(name=\"weather-flow\", flow_run_name=\"weather-run\", log_prints=True)\n",
    "async def main_flow():\n",
    "    df = pd.read_csv(\"districts.csv\")\n",
    "    results = []\n",
    "\n",
    "    timeout = aiohttp.ClientTimeout(total=60)\n",
    "\n",
    "    async with aiohttp.ClientSession(timeout=timeout) as session:\n",
    "        for i in range(0, len(df), BATCH_SIZE):\n",
    "            batch = df.iloc[i:i + BATCH_SIZE]\n",
    "            tasks = [fetch_weather_and_pollution(session, row) for _, row in batch.iterrows()]\n",
    "            batch_results = await asyncio.gather(*tasks)\n",
    "            results.extend([r for r in batch_results if r is not None])\n",
    "            if i + BATCH_SIZE < len(df):\n",
    "                print(f\"Waiting {WAIT_BETWEEN_BATCHES} seconds before next batch...\")\n",
    "                await asyncio.sleep(WAIT_BETWEEN_BATCHES)\n",
    "\n",
    "    df_results = pd.DataFrame(results)\n",
    "    print(df_results)\n",
    "\n",
    "    # lakeFS credentials from your docker-compose.yml\n",
    "    ACCESS_KEY = \"access_key\"\n",
    "    SECRET_KEY = \"secret_key\"\n",
    "    lakefs_endpoint = \"http://lakefs-dev:8000/\"\n",
    "    repo = \"weather\"\n",
    "    branch = \"main\"\n",
    "    path = \"weather.parquet\"\n",
    "\n",
    "    lakefs_s3_path = f\"s3a://{repo}/{branch}/{path}\"\n",
    "    storage_options = {\n",
    "        \"key\": ACCESS_KEY,\n",
    "        \"secret\": SECRET_KEY,\n",
    "        \"client_kwargs\": {\n",
    "            \"endpoint_url\": lakefs_endpoint\n",
    "        }\n",
    "    }\n",
    "\n",
    "    df_results.to_parquet(\n",
    "        lakefs_s3_path,\n",
    "        storage_options=storage_options,\n",
    "        partition_cols=['year', 'month', 'day', 'hour'],\n",
    "    )\n",
    "\n",
    "if __name__ == \"__main__\":\n",
    "    await main_flow()\n",
    "# Run from CLI or script\n",
    "#if __name__ == \"__main__\":\n",
    "    #asyncio.run(main_flow())"
   ]
  },
  {
   "cell_type": "code",
   "execution_count": null,
   "id": "9c8fa6bb-9d0f-4d46-94c4-cf5a7c898665",
   "metadata": {},
   "outputs": [],
   "source": []
  }
 ],
 "metadata": {
  "kernelspec": {
   "display_name": "Python 3 (ipykernel)",
   "language": "python",
   "name": "python3"
  },
  "language_info": {
   "codemirror_mode": {
    "name": "ipython",
    "version": 3
   },
   "file_extension": ".py",
   "mimetype": "text/x-python",
   "name": "python",
   "nbconvert_exporter": "python",
   "pygments_lexer": "ipython3",
   "version": "3.11.9"
  }
 },
 "nbformat": 4,
 "nbformat_minor": 5
}
